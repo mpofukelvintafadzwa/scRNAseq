{
 "cells": [
  {
   "cell_type": "code",
   "execution_count": 13,
   "metadata": {},
   "outputs": [],
   "source": [
    "\"\"\"TensorFlow 2.0 implementation of vanilla Autoencoder.\"\"\"\n",
    "\n",
    "__version__ = '1.0.0'\n",
    "__author__ = 'Abien Fred Agarap'\n",
    "\n",
    "import numpy as np\n",
    "import tensorflow as tf\n",
    "\n",
    "np.random.seed(1)\n",
    "tf.random.set_seed(1)\n",
    "batch_size = 128\n",
    "epochs = 10\n",
    "learning_rate = 1e-2\n",
    "intermediate_dim = 64\n",
    "original_dim = 784\n",
    "\n",
    "(training_features, _), _ = tf.keras.datasets.mnist.load_data()\n",
    "training_features = training_features / np.max(training_features)\n",
    "training_features = training_features.reshape(training_features.shape[0],\n",
    "                                              training_features.shape[1] * training_features.shape[2])\n",
    "training_features = training_features.astype('float32')\n",
    "\n",
    "training_dataset = tf.data.Dataset.from_tensor_slices(training_features)\n",
    "training_dataset = training_dataset.batch(batch_size)\n",
    "training_dataset = training_dataset.shuffle(training_features.shape[0])\n",
    "training_dataset = training_dataset.prefetch(batch_size * 4)\n",
    "\n",
    "\n",
    "class Encoder(tf.keras.layers.Layer):\n",
    "    def __init__(self, intermediate_dim):\n",
    "        super(Encoder, self).__init__()\n",
    "        self.hidden_layer = tf.keras.layers.Dense(units=intermediate_dim, activation=tf.nn.relu, kernel_initializer='he_uniform')\n",
    "        self.output_layer = tf.keras.layers.Dense(units=intermediate_dim, activation=tf.nn.sigmoid)\n",
    "        \n",
    "    def call(self, input_features):\n",
    "        activation = self.hidden_layer(input_features)\n",
    "        return self.output_layer(activation)\n",
    "\n",
    "class Decoder(tf.keras.layers.Layer):\n",
    "    def __init__(self, intermediate_dim, original_dim):\n",
    "        super(Decoder, self).__init__()\n",
    "        self.hidden_layer = tf.keras.layers.Dense(units=intermediate_dim, activation=tf.nn.relu, kernel_initializer='he_uniform')\n",
    "        self.output_layer = tf.keras.layers.Dense(units=original_dim, activation=tf.nn.sigmoid)\n",
    "        \n",
    "    def call(self, code):\n",
    "        activation = self.hidden_layer(code)\n",
    "        return self.output_layer(activation)"
   ]
  },
  {
   "cell_type": "code",
   "execution_count": 15,
   "metadata": {},
   "outputs": [
    {
     "name": "stdout",
     "output_type": "stream",
     "text": [
      "The tensorboard extension is already loaded. To reload it, use:\n",
      "  %reload_ext tensorboard\n"
     ]
    }
   ],
   "source": [
    "%load_ext tensorboard\n",
    "!rm -rf ./tmp"
   ]
  },
  {
   "cell_type": "code",
   "execution_count": 23,
   "metadata": {},
   "outputs": [
    {
     "data": {
      "text/plain": [
       "Reusing TensorBoard on port 6006 (pid 28356), started 0:00:01 ago. (Use '!kill 28356' to kill it.)"
      ]
     },
     "metadata": {},
     "output_type": "display_data"
    },
    {
     "data": {
      "text/html": [
       "\n",
       "      <iframe id=\"tensorboard-frame-dd262a5b9b20a7ac\" width=\"100%\" height=\"800\" frameborder=\"0\">\n",
       "      </iframe>\n",
       "      <script>\n",
       "        (function() {\n",
       "          const frame = document.getElementById(\"tensorboard-frame-dd262a5b9b20a7ac\");\n",
       "          const url = new URL(\"/\", window.location);\n",
       "          url.port = 6006;\n",
       "          frame.src = url;\n",
       "        })();\n",
       "      </script>\n",
       "  "
      ],
      "text/plain": [
       "<IPython.core.display.HTML object>"
      ]
     },
     "metadata": {},
     "output_type": "display_data"
    }
   ],
   "source": [
    "%tensorboard --logdir ./tmp"
   ]
  },
  {
   "cell_type": "code",
   "execution_count": 18,
   "metadata": {},
   "outputs": [],
   "source": [
    "(Check, _), _ = tf.keras.datasets.mnist.load_data()"
   ]
  },
  {
   "cell_type": "code",
   "execution_count": 19,
   "metadata": {},
   "outputs": [
    {
     "data": {
      "text/plain": [
       "(60000, 28, 28)"
      ]
     },
     "execution_count": 19,
     "metadata": {},
     "output_type": "execute_result"
    }
   ],
   "source": [
    "Check.shape"
   ]
  },
  {
   "cell_type": "code",
   "execution_count": 21,
   "metadata": {},
   "outputs": [
    {
     "name": "stdout",
     "output_type": "stream",
     "text": [
      "0/0: loss Values: 0.19928951561450958\n",
      "0/100: loss Values: 0.05247677490115166\n",
      "0/200: loss Values: 0.04047640413045883\n",
      "0/300: loss Values: 0.03306388482451439\n",
      "0/400: loss Values: 0.029457123950123787\n",
      "1/0: loss Values: 0.030749019235372543\n",
      "1/100: loss Values: 0.030711976811289787\n",
      "1/200: loss Values: 0.024476367980241776\n",
      "1/300: loss Values: 0.021552864462137222\n",
      "1/400: loss Values: 0.019970903173089027\n",
      "2/0: loss Values: 0.021942138671875\n",
      "2/100: loss Values: 0.01911173388361931\n",
      "2/200: loss Values: 0.019467180594801903\n",
      "2/300: loss Values: 0.017186179757118225\n",
      "2/400: loss Values: 0.01748153381049633\n",
      "3/0: loss Values: 0.017791911959648132\n",
      "3/100: loss Values: 0.016490096226334572\n",
      "3/200: loss Values: 0.019367534667253494\n",
      "3/300: loss Values: 0.016727155074477196\n",
      "3/400: loss Values: 0.01811329647898674\n",
      "4/0: loss Values: 0.017989767715334892\n",
      "4/100: loss Values: 0.01672404073178768\n",
      "4/200: loss Values: 0.017032813280820847\n",
      "4/300: loss Values: 0.014861253090202808\n",
      "4/400: loss Values: 0.01495225541293621\n",
      "5/0: loss Values: 0.014561858959496021\n",
      "5/100: loss Values: 0.015306033194065094\n",
      "5/200: loss Values: 0.014445081353187561\n",
      "5/300: loss Values: 0.014684378169476986\n",
      "5/400: loss Values: 0.015554053708910942\n",
      "6/0: loss Values: 0.013137051835656166\n",
      "6/100: loss Values: 0.01454271748661995\n",
      "6/200: loss Values: 0.015621768310666084\n",
      "6/300: loss Values: 0.012345289811491966\n",
      "6/400: loss Values: 0.012053999118506908\n",
      "7/0: loss Values: 0.014217650517821312\n",
      "7/100: loss Values: 0.012203263118863106\n",
      "7/200: loss Values: 0.016968537122011185\n",
      "7/300: loss Values: 0.014672338962554932\n",
      "7/400: loss Values: 0.015189370140433311\n",
      "8/0: loss Values: 0.013941281475126743\n",
      "8/100: loss Values: 0.014250366017222404\n",
      "8/200: loss Values: 0.013629852794110775\n",
      "8/300: loss Values: 0.013885155320167542\n",
      "8/400: loss Values: 0.011912154033780098\n",
      "9/0: loss Values: 0.01248997077345848\n",
      "9/100: loss Values: 0.016061848029494286\n",
      "9/200: loss Values: 0.013985974714159966\n",
      "9/300: loss Values: 0.012602182105183601\n",
      "9/400: loss Values: 0.013431884348392487\n"
     ]
    }
   ],
   "source": [
    "class Autoencoder(tf.keras.Model):\n",
    "    def __init__(self, intermediate_dim, original_dim):\n",
    "        super(Autoencoder, self).__init__()\n",
    "        self.encoder = Encoder(intermediate_dim=intermediate_dim)\n",
    "        self.decoder = Decoder(intermediate_dim=intermediate_dim,original_dim=original_dim)\n",
    "  \n",
    "    def call(self, input_features):\n",
    "        code = self.encoder(input_features)\n",
    "        reconstructed = self.decoder(code)\n",
    "        return reconstructed\n",
    "\n",
    "autoencoder = Autoencoder(intermediate_dim=intermediate_dim, original_dim=original_dim)\n",
    "opt = tf.optimizers.Adam(learning_rate=learning_rate)\n",
    "\n",
    "def loss(model, original):\n",
    "    reconstruction_error = tf.reduce_mean(tf.square(tf.subtract(model(original), original)))\n",
    "    return reconstruction_error\n",
    "  \n",
    "def train(loss, model, opt, original):\n",
    "    with tf.GradientTape() as tape:\n",
    "        gradients = tape.gradient(loss(model, original), model.trainable_variables)\n",
    "    gradient_variables = zip(gradients, model.trainable_variables)\n",
    "    opt.apply_gradients(gradient_variables)\n",
    "\n",
    "writer = tf.summary.create_file_writer('tmp')\n",
    "\n",
    "with writer.as_default():\n",
    "    with tf.summary.record_if(True):\n",
    "        for epoch in range(epochs):\n",
    "            for step, batch_features in enumerate(training_dataset):\n",
    "                train(loss, autoencoder, opt, batch_features)\n",
    "                loss_values = loss(autoencoder, batch_features)\n",
    "                if step%100 == 0:\n",
    "                    print('{}/{}: loss Values: {}'.format(epoch, step, loss_values))\n",
    "                original = tf.reshape(batch_features, (batch_features.shape[0], 28, 28, 1))\n",
    "                reconstructed = tf.reshape(autoencoder(tf.constant(batch_features)), (batch_features.shape[0], 28, 28, 1))\n",
    "                tf.summary.scalar('loss', loss_values, step=step)\n",
    "                tf.summary.image('original', original, max_outputs=10, step=step)\n",
    "                tf.summary.image('reconstructed', reconstructed, max_outputs=10, step=step)\n",
    "                "
   ]
  },
  {
   "cell_type": "code",
   "execution_count": null,
   "metadata": {},
   "outputs": [],
   "source": []
  }
 ],
 "metadata": {
  "kernelspec": {
   "display_name": "Python 3",
   "language": "python",
   "name": "python3"
  },
  "language_info": {
   "codemirror_mode": {
    "name": "ipython",
    "version": 3
   },
   "file_extension": ".py",
   "mimetype": "text/x-python",
   "name": "python",
   "nbconvert_exporter": "python",
   "pygments_lexer": "ipython3",
   "version": "3.7.3"
  }
 },
 "nbformat": 4,
 "nbformat_minor": 4
}
