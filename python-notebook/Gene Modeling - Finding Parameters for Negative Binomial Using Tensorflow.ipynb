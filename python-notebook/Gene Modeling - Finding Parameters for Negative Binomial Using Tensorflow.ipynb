{
 "cells": [
  {
   "cell_type": "markdown",
   "metadata": {},
   "source": [
    "# Gene expression (count) modeling from single-Cell RNA Sequencing Data\n",
    "UMI counts in Single-Cell RNA Sequencing Data usually exhibiy Zero-Inflated Negative Binomial or Negatuve Binomial Distribution. An examploe of histogram of one such gene count for several cell-samples is shown below:\n",
    "![image.png](figures/histogram_gene_count.png)"
   ]
  },
  {
   "cell_type": "markdown",
   "metadata": {},
   "source": [
    "*Negative Binomial pdf*:\n",
    "\n",
    "Negative binomial in terms of successes $x$ and failures $r$ can be written as:\n",
    "\n",
    "$$\n",
    "f_{NB}(x, r, p) = \\binom{x + r - 1}{r} p^x (1-p)^r\n",
    "$$\n",
    "where $p$ is the probability of success. \n",
    "\n",
    "$$\n",
    "\\binom{x + r - 1}{r}\n",
    "$$ \n",
    "can be written as \n",
    "$$ \\binom{x + r - 1}{r} = \\frac{\\Gamma(x+r)}{x! \\Gamma(r)}$$\n",
    "\n",
    "Mean of the negative binomial, $\\mu = \\frac{pr}{1-p}$\n",
    "\n",
    "In terms of mean and gamma function:\n",
    "$$\n",
    "f_{NB}(x, r, p) = \\cfrac{\\Gamma(r+x)}{x! \\Gamma(r)} \\cdot \\bigg( \\cfrac{r}{r + \\mu}\\bigg)^r \\cdot \\bigg(\\cfrac{\\mu}{\\mu + r}\\bigg)^x\n",
    "$$\n",
    "\n",
    "Usuall, $r$ is denoted as $\\phi $ and called the dispersion parameter.\n",
    "\n",
    "In terms of mean and dispersion parameter:\n",
    "\n",
    "$$\n",
    "f_{NB}  = f(x|\\mu, \\phi) = \\cfrac{\\Gamma(x+\\phi)}{\\Gamma(\\phi)\\cdot x!} \\cdot \\cfrac{\\mu^x \\phi^\\phi}{(\\mu + \\phi)^{x+\\phi}}\n",
    "= \\cfrac{(x+\\phi - 1)!}{(\\phi - 1)!\\cdot x!} \\cdot \\cfrac{\\mu^x \\phi^\\phi}{(\\mu + \\phi)^{x+\\phi}}\n",
    "$$\n",
    "\n",
    "where $\\mu$ is the expectation of the negative binomial distribition and $\\phi$ is the dispersion parameter, shape parameter or clustering coefficient. The variance $s$ is given by \n",
    "\n",
    "$$s = \\cfrac{\\phi \\mu + \\mu^2}{\\phi}$$.\n",
    "The above formula can be used to calculate dispersion parameter empirically as follows:\n",
    "\n",
    "$$\n",
    "\\phi = \\cfrac{\\mu^2}{s - \\mu }\n",
    "$$\n",
    "\n",
    "$p$, the probability of successes can be written as:\n",
    "\n",
    "$$\n",
    "p = \\cfrac{\\mu}{\\phi + \\mu}\n",
    "$$\n",
    "\n",
    "*Zero-inflated Negative Binomial pdf, modeling the counts of j-the gene*:\n",
    "$$\n",
    "f_{ZINB}(X_j = x) = \\begin{cases} \\pi_j + (1 - \\pi_j)f_{NB}(0)\\quad \\text{if }~~~ x= 0\\\\\n",
    "(1 - \\pi_j)f_{NB}(x)\\quad \\text{if }~~~ x \\in \\mathbb{N}\n",
    "\\end{cases}\n",
    "$$\n",
    "\n",
    "Then, \n",
    "\n",
    "$$\n",
    "L(\\mu, \\phi, \\pi|\\textbf{x})  = L(\\theta|x_1, x_2, \\cdots, x_n)  = \\prod_{i=1}^n f_{ZINB}(x_i | \\mu, \\phi, \\pi) \n",
    "$$\n",
    "\n",
    "\n",
    "Then, we can determine $\\boldsymbol{\\theta} = (\\mu, \\phi, \\pi)$ using as follows:\n",
    "\n",
    "$$\n",
    "\\hat{\\boldsymbol{\\theta} } = \\text{arg} \\max_{\\boldsymbol{\\theta} \\in \\Theta}L(\\mu, \\phi, \\pi|\\textbf{x}) \n",
    "$$\n",
    "\n",
    "$$\n",
    "= \\text{arg} \\max_{\\boldsymbol{\\theta} \\in \\Theta}\\prod_{i=1}^n f_{ZINB}(x_i | \\mu, \\phi, \\pi)\n",
    "$$\n",
    "\n",
    "\n",
    "In practical, we calculate $\\boldsymbol{\\theta}$ using log likelihood.\n",
    "\n",
    "$$\n",
    "\\hat{\\boldsymbol{\\theta} } = \\text{arg} \\max_{\\boldsymbol{\\theta} \\in \\Theta}\\log L(\\mu, \\phi, \\pi|\\textbf{x}) \n",
    "$$\n",
    "\n",
    "$$\n",
    "\\hat{\\boldsymbol{\\theta} } = \\text{arg} \\max_{\\boldsymbol{\\theta} \\in \\Theta}\\log \\prod_{i=1}^n f_{ZINB}(x_i | \\mu, \\phi, \\pi)\n",
    "$$\n",
    "\n",
    "$$\n",
    "\\hat{\\boldsymbol{\\theta} } = \\text{arg} \\max_{\\boldsymbol{\\theta} \\in \\Theta} \\sum_{i=1}^n \\log f_{ZINB}(x_i | \\mu, \\phi, \\pi)\n",
    "$$\n",
    "\n",
    "In other worlds, we want to find out what values of $\\boldsymbol{\\theta}$ maximizes $L(\\boldsymbol(\\theta)|\\textbf{x})$. In other words, find the global maxima of $L(\\boldsymbol(\\theta)|\\textbf{x})$ or finding the global maxima of  $\\log L(\\boldsymbol(\\theta)|\\textbf{x})$. Assuming $L(\\boldsymbol(\\theta)|\\textbf{x})$ is differentiable, we want to solve:\n",
    "\n",
    "$$\n",
    "\\cfrac{\\partial }{\\partial \\theta_j}\\log L(\\boldsymbol(\\theta)|\\textbf{x})  = 0 , \\quad \\forall j = 1, \\cdots, k\n",
    "$$"
   ]
  },
  {
   "cell_type": "markdown",
   "metadata": {},
   "source": [
    "However, most libraries, such as Tensorfow perform minimization rather than maximization. Hence, we minimize the negative of log-likelihood function. In that case, \n",
    "\n",
    "$$\n",
    "\\hat{\\boldsymbol{\\theta} } = \\text{arg} \\min_{\\boldsymbol{\\theta} \\in \\Theta} -\\sum_{i=1}^n \\log f_{ZINB}(x_i | \\mu, \\phi, \\pi)\n",
    "$$\n"
   ]
  },
  {
   "cell_type": "markdown",
   "metadata": {},
   "source": [
    "## Import Important Packages"
   ]
  },
  {
   "cell_type": "code",
   "execution_count": 55,
   "metadata": {},
   "outputs": [],
   "source": [
    "import tensorflow as tf\n",
    "import numpy as np\n",
    "import matplotlib.pyplot as plt\n",
    "import pandas as pd\n",
    "plt.rcParams['figure.figsize'] = (24, 18)\n",
    "plt.style.use('seaborn')\n",
    "plt.rcParams.update({'font.size': 18})\n",
    "import tensorflow_probability as tfp\n",
    "from tensorflow_probability.python import distributions as tfd"
   ]
  },
  {
   "cell_type": "markdown",
   "metadata": {},
   "source": [
    "**Tensorflow doesn't have $\\Gamma(x)$ function. However, it has `tf.math.lgamma` function that computes the log of the absolute value of $\\Gamma(x)$ element-wise. Hence, the exponent will give you the raw $\\Gamma(x)$ value:**"
   ]
  },
  {
   "cell_type": "code",
   "execution_count": 56,
   "metadata": {},
   "outputs": [],
   "source": [
    "@tf.function\n",
    "def tfgamma(z):\n",
    "    g = tf.exp(tf.math.lgamma(z))\n",
    "    return g"
   ]
  },
  {
   "cell_type": "markdown",
   "metadata": {},
   "source": [
    "## Method of Moment-Estimator"
   ]
  },
  {
   "cell_type": "code",
   "execution_count": 57,
   "metadata": {},
   "outputs": [
    {
     "name": "stdout",
     "output_type": "stream",
     "text": [
      "tf.Tensor(1.3973354, shape=(), dtype=float32)\n",
      "tf.Tensor(1.6983671, shape=(), dtype=float32)\n",
      "tf.Tensor(6.4861813, shape=(), dtype=float32)\n",
      "tf.Tensor(0.17724772, shape=(), dtype=float32)\n"
     ]
    },
    {
     "data": {
      "image/png": "[encoded data removed]",
      "text/plain": [
       "<Figure size 576x396 with 1 Axes>"
      ]
     },
     "metadata": {},
     "output_type": "display_data"
    }
   ],
   "source": [
    "# We will read a column of Lukassen Data\n",
    "X = pd.read_csv('UMICount_1.csv')\n",
    "plt.hist(X.values, bins=10,  density = True)\n",
    "X = tf.constant(X.values, dtype=tf.float32)\n",
    "\n",
    "# Calculate, mean and variance and hence dispersion parameter\n",
    "# and probability of successes using method of moment estimator\n",
    "empirical_mean = tf.reduce_mean(X)\n",
    "empirical_variance = tf.math.reduce_std(X)\n",
    "print(empirical_mean)\n",
    "print(empirical_variance)\n",
    "\n",
    "empirical_dispersion = (empirical_mean**2)/(empirical_variance - empirical_mean)\n",
    "print(empirical_dispersion)\n",
    "\n",
    "empirical_probability = empirical_mean/(empirical_mean + empirical_dispersion)\n",
    "print(empirical_probability)\n",
    "\n",
    "negbinom = tfd.NegativeBinomial(\n",
    "        total_count=tf.math.round(empirical_dispersion), probs=empirical_probability, validate_args=True)"
   ]
  },
  {
   "cell_type": "code",
   "execution_count": 80,
   "metadata": {},
   "outputs": [
    {
     "data": {
      "image/png": "[encoded data removed]",
      "text/plain": [
       "<Figure size 576x396 with 1 Axes>"
      ]
     },
     "metadata": {},
     "output_type": "display_data"
    }
   ],
   "source": [
    "import seaborn as sns\n",
    "# Plot 1000 samples from a negative biniomal\n",
    "samples = negbinom.sample(1000)\n",
    "sns.distplot(samples, bins=10)\n",
    "plt.title(\"Samples from a Negative Binomial based on parameters calculated using Method of Moment Estimator\")\n",
    "plt.show()"
   ]
  },
  {
   "cell_type": "markdown",
   "metadata": {},
   "source": [
    "## Likelihood Function for Negative Binomial Function\n",
    "Let's write a function to encode Likelihood Function for Negative Binomial Function."
   ]
  },
  {
   "cell_type": "code",
   "execution_count": 42,
   "metadata": {},
   "outputs": [
    {
     "name": "stdout",
     "output_type": "stream",
     "text": [
      "Summand: Tensor(\"Log:0\", shape=(1,), dtype=float32)\n"
     ]
    },
    {
     "data": {
      "text/plain": [
       "array([5808.8623], dtype=float32)"
      ]
     },
     "execution_count": 42,
     "metadata": {},
     "output_type": "execute_result"
    }
   ],
   "source": [
    "@tf.function\n",
    "def NB(x, mu, phi):\n",
    "    numerator = tfgamma(x + phi)*(mu**x)*(phi**phi)\n",
    "    denominator = tfgamma(phi)*tfgamma(x+1) *((mu + phi)**(x+phi))\n",
    "    return (numerator/denominator)\n",
    "\n",
    "@tf.function\n",
    "def negloglikelihood(mu, phi):\n",
    "    # mu, phi = tf.split(theta, [1, 1])\n",
    "    sum = tf.constant([0.0])\n",
    "    for x in X:\n",
    "        summand = tf.math.log(NB(x, mu, phi ))\n",
    "        print(\"Summand: {}\".format(summand))\n",
    "        sum = sum + summand\n",
    "    return -1.0*sum\n",
    "\n",
    "@tf.function\n",
    "def lminimize():\n",
    "    sum = tf.constant([0.0])\n",
    "    for x in X:\n",
    "        sum = sum + tf.math.log(NB(x, mu, phi ))\n",
    "    return -1.0*sum\n",
    "\n",
    "# test the function\n",
    "mu = tf.Variable(0.3) \n",
    "phi = tf.Variable(0.13) \n",
    "negloglikelihood(mu, phi).numpy()"
   ]
  },
  {
   "cell_type": "markdown",
   "metadata": {},
   "source": [
    "Let minimization objective function be $f(\\theta) = -\\sum_{i=1}^n \\log f_{NB}(x_i | \\mu, \\phi)$ where $\\theta = (\\mu, \\phi)$.\n",
    "\n",
    "Then, the value of $\\theta$ that minimizes $f$ can be written as $$\\theta^* = \\arg \\min_{\\theta \\in \\Theta} f (\\theta)$$.\n",
    "\n",
    "Normally, we use stochastic gradient descent to find the minimizer, with an update rule that looks like as follows:\n",
    "\n",
    "$$\n",
    "\\theta_{t+1} = \\theta_{t}  - \\alpha_t \\nabla f (\\theta_t)\n",
    "$$"
   ]
  },
  {
   "cell_type": "code",
   "execution_count": 43,
   "metadata": {},
   "outputs": [],
   "source": [
    "opt = tf.keras.optimizers.SGD(learning_rate=0.1)\n"
   ]
  },
  {
   "cell_type": "code",
   "execution_count": 44,
   "metadata": {},
   "outputs": [],
   "source": [
    "#theta = tf.constant([empirical_mean.numpy(), empirical_dispersion.numpy()])\n",
    "#mu = tf.Variable(empirical_mean.numpy()) \n",
    "#phi = tf.Variable(empirical_dispersion.numpy()) \n",
    "\n",
    "#opt = tf.keras.optimizers.SGD(learning_rate=0.1)\n",
    "#for i in range(50):\n",
    "#    theta = tf.constant([mu.numpy(), phi.numpy()])\n",
    "#    print ('f: {0}, mu = {1}, phi = {2} '.format(negloglikelihood(theta), theta[0].numpy(), theta[1].numpy()))\n",
    "#    opt.minimize(lminimize, var_list=[mu, phi])"
   ]
  },
  {
   "cell_type": "code",
   "execution_count": null,
   "metadata": {
    "scrolled": true
   },
   "outputs": [],
   "source": [
    "# Intiial mu and phi are calculated from method of moments estimators\n",
    "\n",
    "mu = tf.Variable(empirical_mean.numpy()) \n",
    "phi = tf.Variable(empirical_dispersion.numpy())\n",
    "\n",
    "mu_old = None\n",
    "phi_old = None\n",
    "# theta = tf.constant([mu.numpy(), phi.numpy()])\n",
    "f = []\n",
    "opt = tf.keras.optimizers.SGD(learning_rate=0.0001)\n",
    "for i in range(50000):\n",
    "    with tf.GradientTape() as tape:\n",
    "        y = negloglikelihood(mu, phi)\n",
    "    grads = tape.gradient(y, [mu, phi])\n",
    "    processed_grads = [g for g in grads]\n",
    "    grads_and_vars = zip(processed_grads, [mu, phi])\n",
    "    f.append(negloglikelihood(mu, phi))\n",
    "    if mu is not None\n",
    "        if mu_old - mu < 0.000001 and phi_old - phi < 0.000001:\n",
    "            break\n",
    "    print ('f: {0}, mu = {1}, phi = {2} '.format(negloglikelihood(mu, phi), mu.numpy(), phi.numpy()))\n",
    "    mu_old = mu\n",
    "    phi_old = phi\n",
    "    opt.apply_gradients(grads_and_vars)"
   ]
  },
  {
   "cell_type": "code",
   "execution_count": null,
   "metadata": {
    "scrolled": true
   },
   "outputs": [],
   "source": [
    "#mu = tf.Variable(empirical_mean.numpy()) \n",
    "#phi = tf.Variable(empirical_dispersion.numpy())\n",
    "#for i in range(50):\n",
    "#    with tf.GradientTape() as tape:\n",
    "#        y = negloglikelihood(mu, phi)\n",
    "#    grads = tape.gradient(y, [mu, phi])\n",
    "#    print(\"grads: {}\".format(grads))\n",
    "#    print ('f: {0}, mu = {1}, phi = {2} '.format(negloglikelihood(mu, phi), mu.numpy(), phi.numpy()))\n",
    "#    mu.assign(mu - 0.00001*grads[0].numpy())\n",
    "#    phi.assign(phi - 0.00001*grads[1].numpy())"
   ]
  },
  {
   "cell_type": "code",
   "execution_count": 50,
   "metadata": {},
   "outputs": [
    {
     "name": "stdout",
     "output_type": "stream",
     "text": [
      "tf.Tensor(0.47772437, shape=(), dtype=float32)\n",
      "tf.Tensor(6.0, shape=(), dtype=float32)\n",
      "tf.Tensor(2.0, shape=(), dtype=float32)\n"
     ]
    }
   ],
   "source": [
    "\n",
    "p = mu/(phi + mu)\n",
    "print(p)\n",
    "print(tf.math.round(6.486181259155273 ))\n",
    "print(tf.math.round(phi ))"
   ]
  },
  {
   "cell_type": "code",
   "execution_count": 67,
   "metadata": {},
   "outputs": [],
   "source": [
    "negbinom_ML = tfd.NegativeBinomial(\n",
    "        total_count=tf.math.round(phi), probs=p, validate_args=True)"
   ]
  },
  {
   "cell_type": "code",
   "execution_count": 68,
   "metadata": {},
   "outputs": [
    {
     "data": {
      "image/png": "[encoded data removed]",
      "text/plain": [
       "<Figure size 576x396 with 1 Axes>"
      ]
     },
     "metadata": {},
     "output_type": "display_data"
    }
   ],
   "source": [
    "import seaborn as sns\n",
    "# Plot 1000 samples from a negative biniomal\n",
    "samples = negbinom_ML.sample(1000)\n",
    "sns.distplot(samples, bins=10)\n",
    "plt.title(\"Samples from a Negative Binomial\")\n",
    "plt.show()"
   ]
  },
  {
   "cell_type": "code",
   "execution_count": null,
   "metadata": {},
   "outputs": [],
   "source": []
  }
 ],
 "metadata": {
  "kernelspec": {
   "display_name": "Python 3",
   "language": "python",
   "name": "python3"
  },
  "language_info": {
   "codemirror_mode": {
    "name": "ipython",
    "version": 3
   },
   "file_extension": ".py",
   "mimetype": "text/x-python",
   "name": "python",
   "nbconvert_exporter": "python",
   "pygments_lexer": "ipython3",
   "version": "3.7.3"
  }
 },
 "nbformat": 4,
 "nbformat_minor": 2
}
