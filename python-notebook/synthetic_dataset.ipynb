{
 "cells": [
  {
   "cell_type": "markdown",
   "metadata": {},
   "source": [
    "# Single-Cell RNA Sequencing using synthetic dataset generated from Splatter using Tensorflow 2.0\n",
    "# with prime resources from https://github.com/theislab/dca"
   ]
  },
  {
   "cell_type": "code",
   "execution_count": 96,
   "metadata": {},
   "outputs": [],
   "source": [
    "## Author: Rahul Bhadani"
   ]
  },
  {
   "cell_type": "code",
   "execution_count": 97,
   "metadata": {},
   "outputs": [
    {
     "name": "stdout",
     "output_type": "stream",
     "text": [
      "The rpy2.ipython extension is already loaded. To reload it, use:\n",
      "  %reload_ext rpy2.ipython\n"
     ]
    }
   ],
   "source": [
    "# make sure that rpy2 is installed: https://rpy2.bitbucket.io/\n",
    "%load_ext rpy2.ipython\n",
    "\n",
    "import warnings\n",
    "from rpy2.rinterface import RRuntimeWarning\n",
    "\n",
    "# ignore R warning messages\n",
    "warnings.filterwarnings(\"ignore\", category=RRuntimeWarning)"
   ]
  },
  {
   "cell_type": "markdown",
   "metadata": {},
   "source": [
    "# Generate Synthetic Dataset using Splatter"
   ]
  },
  {
   "cell_type": "markdown",
   "metadata": {},
   "source": [
    "The core of the Splat model is a gamma-Poisson distribution used to generate a gene by cell matrix of counts. Mean expression levels for each gene are simulated from a gamma distribution and the Biological Coefficient of Variation is used to enforce a mean-variance trend before counts are simulated from a Poisson distribution. Splat also allows you to simulate expression outlier genes (genes with mean expression outside the gamma distribution) and dropout (random knock out of counts based on mean expression). Each cell is given an expected library size (simulated from a log-normal distribution) that makes it easier to match to a given dataset. Splat can also simulate differential expression between groups of different types of cells or differentiation paths between different cells types where expression changes in a continuous way.\n"
   ]
  },
  {
   "cell_type": "code",
   "execution_count": 87,
   "metadata": {},
   "outputs": [],
   "source": [
    "# %%R will execute R command\n",
    "# -o flag gives a way to transfer R variables to Jupyter Notebook"
   ]
  },
  {
   "cell_type": "code",
   "execution_count": 88,
   "metadata": {},
   "outputs": [
    {
     "name": "stderr",
     "output_type": "stream",
     "text": [
      "R[write to console]: Getting parameters...\n",
      "\n",
      "R[write to console]: Creating simulation object...\n",
      "\n",
      "R[write to console]: Simulating library sizes...\n",
      "\n",
      "R[write to console]: Simulating gene means...\n",
      "\n",
      "R[write to console]: Simulating group DE...\n",
      "\n",
      "R[write to console]: Simulating cell means...\n",
      "\n",
      "R[write to console]: Simulating BCV...\n",
      "\n",
      "R[write to console]: Simulating counts...\n",
      "\n",
      "R[write to console]: Simulating dropout (if needed)...\n",
      "\n",
      "R[write to console]: Done!\n",
      "\n"
     ]
    }
   ],
   "source": [
    "%%R -o counts -o truecounts -o geneinfo -o cellinfo\n",
    "library(splatter)\n",
    "# Reference: https://bioconductor.org/packages/devel/bioc/vignettes/splatter/inst/doc/splatter.html\n",
    "simulate <- function(nGroups=2, nGenes=200, batchCells=2000, dropout=3)\n",
    "{\n",
    "    if (nGroups > 1) method <- 'groups'\n",
    "    else             method <- 'single'\n",
    "\n",
    "    group.prob <- rep(1, nGroups) / nGroups # Group Probability\n",
    "\n",
    "    # new splatter requires dropout.type\n",
    "    if ('dropout.type' %in% slotNames(newSplatParams())) {\n",
    "        if (dropout)\n",
    "            dropout.type <- 'experiment'\n",
    "        else\n",
    "            dropout.type <- 'none'\n",
    "        \n",
    "        sim <- splatSimulate(group.prob=group.prob, nGenes=nGenes, batchCells=batchCells,\n",
    "                             dropout.type=dropout.type, method=method,\n",
    "                             seed=42, dropout.shape=-1, dropout.mid=dropout)\n",
    "\n",
    "    } else {\n",
    "        sim <- splatSimulate(group.prob=group.prob, nGenes=nGenes, batchCells=batchCells,\n",
    "                             dropout.present=!dropout, method=method,\n",
    "                             seed=42, dropout.shape=-1, dropout.mid=dropout)        \n",
    "    }\n",
    "\n",
    "    counts     <- as.data.frame(t(counts(sim)))\n",
    "    truecounts <- as.data.frame(t(assays(sim)$TrueCounts))\n",
    "\n",
    "    dropout    <- assays(sim)$Dropout\n",
    "    mode(dropout) <- 'integer'\n",
    "\n",
    "    cellinfo   <- as.data.frame(colData(sim))\n",
    "    geneinfo   <- as.data.frame(rowData(sim))\n",
    "\n",
    "    list(counts=counts,\n",
    "         cellinfo=cellinfo,\n",
    "         geneinfo=geneinfo,\n",
    "         truecounts=truecounts)\n",
    "}\n",
    "\n",
    "sim <- simulate()\n",
    "\n",
    "counts <- sim$counts\n",
    "geneinfo <- sim$geneinfo\n",
    "cellinfo <- sim$cellinfo\n",
    "truecounts <- sim$truecounts"
   ]
  },
  {
   "cell_type": "markdown",
   "metadata": {},
   "source": [
    "## Let's see how our data look like:"
   ]
  },
  {
   "cell_type": "code",
   "execution_count": 89,
   "metadata": {},
   "outputs": [
    {
     "data": {
      "text/html": [
       "<div>\n",
       "<style scoped>\n",
       "    .dataframe tbody tr th:only-of-type {\n",
       "        vertical-align: middle;\n",
       "    }\n",
       "\n",
       "    .dataframe tbody tr th {\n",
       "        vertical-align: top;\n",
       "    }\n",
       "\n",
       "    .dataframe thead th {\n",
       "        text-align: right;\n",
       "    }\n",
       "</style>\n",
       "<table border=\"1\" class=\"dataframe\">\n",
       "  <thead>\n",
       "    <tr style=\"text-align: right;\">\n",
       "      <th></th>\n",
       "      <th>Gene1</th>\n",
       "      <th>Gene2</th>\n",
       "      <th>Gene3</th>\n",
       "      <th>Gene4</th>\n",
       "      <th>Gene5</th>\n",
       "      <th>Gene6</th>\n",
       "      <th>Gene7</th>\n",
       "      <th>Gene8</th>\n",
       "      <th>Gene9</th>\n",
       "      <th>Gene10</th>\n",
       "      <th>...</th>\n",
       "      <th>Gene191</th>\n",
       "      <th>Gene192</th>\n",
       "      <th>Gene193</th>\n",
       "      <th>Gene194</th>\n",
       "      <th>Gene195</th>\n",
       "      <th>Gene196</th>\n",
       "      <th>Gene197</th>\n",
       "      <th>Gene198</th>\n",
       "      <th>Gene199</th>\n",
       "      <th>Gene200</th>\n",
       "    </tr>\n",
       "  </thead>\n",
       "  <tbody>\n",
       "    <tr>\n",
       "      <th>Cell2</th>\n",
       "      <td>0</td>\n",
       "      <td>36</td>\n",
       "      <td>0</td>\n",
       "      <td>406</td>\n",
       "      <td>27</td>\n",
       "      <td>270</td>\n",
       "      <td>216</td>\n",
       "      <td>0</td>\n",
       "      <td>126</td>\n",
       "      <td>0</td>\n",
       "      <td>...</td>\n",
       "      <td>23</td>\n",
       "      <td>224</td>\n",
       "      <td>666</td>\n",
       "      <td>0</td>\n",
       "      <td>4</td>\n",
       "      <td>165</td>\n",
       "      <td>390</td>\n",
       "      <td>0</td>\n",
       "      <td>0</td>\n",
       "      <td>104</td>\n",
       "    </tr>\n",
       "    <tr>\n",
       "      <th>Cell3</th>\n",
       "      <td>26</td>\n",
       "      <td>96</td>\n",
       "      <td>0</td>\n",
       "      <td>367</td>\n",
       "      <td>21</td>\n",
       "      <td>365</td>\n",
       "      <td>304</td>\n",
       "      <td>10</td>\n",
       "      <td>305</td>\n",
       "      <td>0</td>\n",
       "      <td>...</td>\n",
       "      <td>0</td>\n",
       "      <td>263</td>\n",
       "      <td>740</td>\n",
       "      <td>0</td>\n",
       "      <td>0</td>\n",
       "      <td>0</td>\n",
       "      <td>510</td>\n",
       "      <td>1471</td>\n",
       "      <td>7</td>\n",
       "      <td>100</td>\n",
       "    </tr>\n",
       "    <tr>\n",
       "      <th>Cell4</th>\n",
       "      <td>12</td>\n",
       "      <td>43</td>\n",
       "      <td>0</td>\n",
       "      <td>321</td>\n",
       "      <td>0</td>\n",
       "      <td>198</td>\n",
       "      <td>258</td>\n",
       "      <td>20</td>\n",
       "      <td>147</td>\n",
       "      <td>0</td>\n",
       "      <td>...</td>\n",
       "      <td>21</td>\n",
       "      <td>178</td>\n",
       "      <td>426</td>\n",
       "      <td>0</td>\n",
       "      <td>0</td>\n",
       "      <td>127</td>\n",
       "      <td>261</td>\n",
       "      <td>1609</td>\n",
       "      <td>0</td>\n",
       "      <td>104</td>\n",
       "    </tr>\n",
       "  </tbody>\n",
       "</table>\n",
       "<p>3 rows × 200 columns</p>\n",
       "</div>"
      ],
      "text/plain": [
       "       Gene1  Gene2  Gene3  Gene4  Gene5  Gene6  Gene7  Gene8  Gene9  Gene10  \\\n",
       "Cell2      0     36      0    406     27    270    216      0    126       0   \n",
       "Cell3     26     96      0    367     21    365    304     10    305       0   \n",
       "Cell4     12     43      0    321      0    198    258     20    147       0   \n",
       "\n",
       "       ...  Gene191  Gene192  Gene193  Gene194  Gene195  Gene196  Gene197  \\\n",
       "Cell2  ...       23      224      666        0        4      165      390   \n",
       "Cell3  ...        0      263      740        0        0        0      510   \n",
       "Cell4  ...       21      178      426        0        0      127      261   \n",
       "\n",
       "       Gene198  Gene199  Gene200  \n",
       "Cell2        0        0      104  \n",
       "Cell3     1471        7      100  \n",
       "Cell4     1609        0      104  \n",
       "\n",
       "[3 rows x 200 columns]"
      ]
     },
     "execution_count": 89,
     "metadata": {},
     "output_type": "execute_result"
    }
   ],
   "source": [
    "counts[1:4]"
   ]
  },
  {
   "cell_type": "code",
   "execution_count": 90,
   "metadata": {},
   "outputs": [
    {
     "data": {
      "text/plain": [
       "pandas.core.frame.DataFrame"
      ]
     },
     "execution_count": 90,
     "metadata": {},
     "output_type": "execute_result"
    }
   ],
   "source": [
    "type(counts[1:4])"
   ]
  },
  {
   "cell_type": "code",
   "execution_count": 91,
   "metadata": {},
   "outputs": [
    {
     "data": {
      "text/html": [
       "<div>\n",
       "<style scoped>\n",
       "    .dataframe tbody tr th:only-of-type {\n",
       "        vertical-align: middle;\n",
       "    }\n",
       "\n",
       "    .dataframe tbody tr th {\n",
       "        vertical-align: top;\n",
       "    }\n",
       "\n",
       "    .dataframe thead th {\n",
       "        text-align: right;\n",
       "    }\n",
       "</style>\n",
       "<table border=\"1\" class=\"dataframe\">\n",
       "  <thead>\n",
       "    <tr style=\"text-align: right;\">\n",
       "      <th></th>\n",
       "      <th>Gene1</th>\n",
       "      <th>Gene2</th>\n",
       "      <th>Gene3</th>\n",
       "      <th>Gene4</th>\n",
       "      <th>Gene5</th>\n",
       "      <th>Gene6</th>\n",
       "      <th>Gene7</th>\n",
       "      <th>Gene8</th>\n",
       "      <th>Gene9</th>\n",
       "      <th>Gene10</th>\n",
       "      <th>...</th>\n",
       "      <th>Gene191</th>\n",
       "      <th>Gene192</th>\n",
       "      <th>Gene193</th>\n",
       "      <th>Gene194</th>\n",
       "      <th>Gene195</th>\n",
       "      <th>Gene196</th>\n",
       "      <th>Gene197</th>\n",
       "      <th>Gene198</th>\n",
       "      <th>Gene199</th>\n",
       "      <th>Gene200</th>\n",
       "    </tr>\n",
       "  </thead>\n",
       "  <tbody>\n",
       "    <tr>\n",
       "      <th>Cell2</th>\n",
       "      <td>33</td>\n",
       "      <td>36</td>\n",
       "      <td>8</td>\n",
       "      <td>406</td>\n",
       "      <td>27</td>\n",
       "      <td>270</td>\n",
       "      <td>216</td>\n",
       "      <td>37</td>\n",
       "      <td>126</td>\n",
       "      <td>15</td>\n",
       "      <td>...</td>\n",
       "      <td>23</td>\n",
       "      <td>224</td>\n",
       "      <td>666</td>\n",
       "      <td>7</td>\n",
       "      <td>4</td>\n",
       "      <td>165</td>\n",
       "      <td>390</td>\n",
       "      <td>1214</td>\n",
       "      <td>5</td>\n",
       "      <td>104</td>\n",
       "    </tr>\n",
       "    <tr>\n",
       "      <th>Cell3</th>\n",
       "      <td>26</td>\n",
       "      <td>96</td>\n",
       "      <td>7</td>\n",
       "      <td>367</td>\n",
       "      <td>21</td>\n",
       "      <td>365</td>\n",
       "      <td>304</td>\n",
       "      <td>10</td>\n",
       "      <td>305</td>\n",
       "      <td>8</td>\n",
       "      <td>...</td>\n",
       "      <td>12</td>\n",
       "      <td>263</td>\n",
       "      <td>740</td>\n",
       "      <td>1</td>\n",
       "      <td>5</td>\n",
       "      <td>154</td>\n",
       "      <td>510</td>\n",
       "      <td>1471</td>\n",
       "      <td>7</td>\n",
       "      <td>100</td>\n",
       "    </tr>\n",
       "    <tr>\n",
       "      <th>Cell4</th>\n",
       "      <td>12</td>\n",
       "      <td>43</td>\n",
       "      <td>2</td>\n",
       "      <td>321</td>\n",
       "      <td>12</td>\n",
       "      <td>198</td>\n",
       "      <td>258</td>\n",
       "      <td>20</td>\n",
       "      <td>147</td>\n",
       "      <td>10</td>\n",
       "      <td>...</td>\n",
       "      <td>21</td>\n",
       "      <td>178</td>\n",
       "      <td>426</td>\n",
       "      <td>3</td>\n",
       "      <td>4</td>\n",
       "      <td>127</td>\n",
       "      <td>261</td>\n",
       "      <td>1609</td>\n",
       "      <td>3</td>\n",
       "      <td>104</td>\n",
       "    </tr>\n",
       "  </tbody>\n",
       "</table>\n",
       "<p>3 rows × 200 columns</p>\n",
       "</div>"
      ],
      "text/plain": [
       "       Gene1  Gene2  Gene3  Gene4  Gene5  Gene6  Gene7  Gene8  Gene9  Gene10  \\\n",
       "Cell2     33     36      8    406     27    270    216     37    126      15   \n",
       "Cell3     26     96      7    367     21    365    304     10    305       8   \n",
       "Cell4     12     43      2    321     12    198    258     20    147      10   \n",
       "\n",
       "       ...  Gene191  Gene192  Gene193  Gene194  Gene195  Gene196  Gene197  \\\n",
       "Cell2  ...       23      224      666        7        4      165      390   \n",
       "Cell3  ...       12      263      740        1        5      154      510   \n",
       "Cell4  ...       21      178      426        3        4      127      261   \n",
       "\n",
       "       Gene198  Gene199  Gene200  \n",
       "Cell2     1214        5      104  \n",
       "Cell3     1471        7      100  \n",
       "Cell4     1609        3      104  \n",
       "\n",
       "[3 rows x 200 columns]"
      ]
     },
     "execution_count": 91,
     "metadata": {},
     "output_type": "execute_result"
    }
   ],
   "source": [
    "truecounts[1:4]"
   ]
  },
  {
   "cell_type": "code",
   "execution_count": 92,
   "metadata": {},
   "outputs": [
    {
     "data": {
      "text/plain": [
       "pandas.core.frame.DataFrame"
      ]
     },
     "execution_count": 92,
     "metadata": {},
     "output_type": "execute_result"
    }
   ],
   "source": [
    "type(truecounts[1:4])"
   ]
  },
  {
   "cell_type": "markdown",
   "metadata": {},
   "source": [
    "## Generating AnnData from splatter's count Data"
   ]
  },
  {
   "cell_type": "code",
   "execution_count": 93,
   "metadata": {},
   "outputs": [],
   "source": [
    "import pandas as pd"
   ]
  },
  {
   "cell_type": "code",
   "execution_count": 94,
   "metadata": {},
   "outputs": [],
   "source": [
    "import numpy as np\n",
    "import matplotlib.pyplot as plt\n",
    "import seaborn as sns\n",
    "import scanpy as sc"
   ]
  },
  {
   "cell_type": "code",
   "execution_count": 95,
   "metadata": {},
   "outputs": [
    {
     "name": "stdout",
     "output_type": "stream",
     "text": [
      "CPU times: user 3.88 ms, sys: 4.1 ms, total: 7.98 ms\n",
      "Wall time: 6.08 ms\n"
     ]
    }
   ],
   "source": [
    "%%time\n",
    "adataNoisy = sc.AnnData(counts.values, obs=cellinfo, var=geneinfo)\n",
    "adataNoisy.obs_names = cellinfo.Cell\n",
    "adataNoisy.var_names = geneinfo.Gene"
   ]
  },
  {
   "cell_type": "markdown",
   "metadata": {},
   "source": [
    "### Let's see how our data looks like"
   ]
  },
  {
   "cell_type": "code",
   "execution_count": 98,
   "metadata": {},
   "outputs": [
    {
     "data": {
      "text/plain": [
       "AnnData object with n_obs × n_vars = 2000 × 200 \n",
       "    obs: 'Cell', 'Batch', 'Group', 'ExpLibSize'\n",
       "    var: 'Gene', 'BaseGeneMean', 'OutlierFactor', 'GeneMean', 'DEFacGroup1', 'DEFacGroup2'"
      ]
     },
     "execution_count": 98,
     "metadata": {},
     "output_type": "execute_result"
    }
   ],
   "source": [
    "adataNoisy"
   ]
  },
  {
   "cell_type": "code",
   "execution_count": 99,
   "metadata": {},
   "outputs": [
    {
     "data": {
      "text/plain": [
       "array([[  38.,    0.,   25., ..., 1571.,    7.,  169.],\n",
       "       [   0.,   36.,    0., ...,    0.,    0.,  104.],\n",
       "       [  26.,   96.,    0., ..., 1471.,    7.,  100.],\n",
       "       ...,\n",
       "       [   0.,   45.,    0., ..., 1060.,    0.,   65.],\n",
       "       [   0.,   79.,    0., ..., 1244.,    0.,  106.],\n",
       "       [  28.,    0.,   13., ...,  993.,    0.,  106.]], dtype=float32)"
      ]
     },
     "execution_count": 99,
     "metadata": {},
     "output_type": "execute_result"
    }
   ],
   "source": [
    "adataNoisy.X"
   ]
  },
  {
   "cell_type": "markdown",
   "metadata": {},
   "source": [
    "### Well, we need to filter data and normalize as well"
   ]
  },
  {
   "cell_type": "code",
   "execution_count": 100,
   "metadata": {},
   "outputs": [
    {
     "data": {
      "text/plain": [
       "array([[3.2299318, 0.       , 2.831584 , ..., 6.912445 , 1.69969  ,\n",
       "        4.691099 ],\n",
       "       [0.       , 3.4995372, 0.       , ..., 0.       , 0.       ,\n",
       "        4.5404577],\n",
       "       [3.1015065, 4.374409 , 0.       , ..., 7.091915 , 1.9045151,\n",
       "        4.414727 ],\n",
       "       ...,\n",
       "       [0.       , 3.8853781, 0.       , ..., 7.0248756, 0.       ,\n",
       "        4.2467628],\n",
       "       [0.       , 4.4143496, 0.       , ..., 7.1595902, 0.       ,\n",
       "        4.705253 ],\n",
       "       [3.60019  , 0.       , 2.8639696, ..., 7.141809 , 0.       ,\n",
       "        4.9111176]], dtype=float32)"
      ]
     },
     "execution_count": 100,
     "metadata": {},
     "output_type": "execute_result"
    }
   ],
   "source": [
    "sc.pp.filter_genes(adataNoisy, min_counts=1)\n",
    "sc.pp.normalize_per_cell(adataNoisy)\n",
    "sc.pp.log1p(adataNoisy)\n",
    "sc.pp.pca(adataNoisy)\n",
    "adataNoisy.X"
   ]
  },
  {
   "cell_type": "code",
   "execution_count": 15,
   "metadata": {},
   "outputs": [],
   "source": [
    "#sc.pl.clustermap(adata, 'Group')"
   ]
  },
  {
   "cell_type": "code",
   "execution_count": 16,
   "metadata": {},
   "outputs": [],
   "source": [
    "#sc.pl.clustermap(adata, 'Group')"
   ]
  },
  {
   "cell_type": "markdown",
   "metadata": {},
   "source": [
    "### Lets also save the true counts for comparison as well"
   ]
  },
  {
   "cell_type": "code",
   "execution_count": 101,
   "metadata": {},
   "outputs": [],
   "source": [
    "adata_true = sc.AnnData(truecounts.values, obs=cellinfo, var=geneinfo)"
   ]
  },
  {
   "cell_type": "code",
   "execution_count": 102,
   "metadata": {},
   "outputs": [
    {
     "data": {
      "text/plain": [
       "array([[  38.,   89.,   25., ..., 1571.,    7.,  169.],\n",
       "       [  33.,   36.,    8., ..., 1214.,    5.,  104.],\n",
       "       [  26.,   96.,    7., ..., 1471.,    7.,  100.],\n",
       "       ...,\n",
       "       [  20.,   45.,   10., ..., 1060.,    5.,   65.],\n",
       "       [  34.,   79.,    3., ..., 1244.,    4.,  106.],\n",
       "       [  28.,   30.,   13., ...,  993.,    6.,  106.]], dtype=float32)"
      ]
     },
     "execution_count": 102,
     "metadata": {},
     "output_type": "execute_result"
    }
   ],
   "source": [
    "adata_true.obs_names = cellinfo.Cell\n",
    "adata_true.var_names = geneinfo.Gene\n",
    "adata_true = adata_true[:, adataNoisy.var_names].copy()\n",
    "adata_true\n",
    "adata_true.X"
   ]
  },
  {
   "cell_type": "code",
   "execution_count": 104,
   "metadata": {},
   "outputs": [
    {
     "data": {
      "text/html": [
       "<div>\n",
       "<style scoped>\n",
       "    .dataframe tbody tr th:only-of-type {\n",
       "        vertical-align: middle;\n",
       "    }\n",
       "\n",
       "    .dataframe tbody tr th {\n",
       "        vertical-align: top;\n",
       "    }\n",
       "\n",
       "    .dataframe thead th {\n",
       "        text-align: right;\n",
       "    }\n",
       "</style>\n",
       "<table border=\"1\" class=\"dataframe\">\n",
       "  <thead>\n",
       "    <tr style=\"text-align: right;\">\n",
       "      <th></th>\n",
       "      <th>Cell</th>\n",
       "      <th>Batch</th>\n",
       "      <th>Group</th>\n",
       "      <th>ExpLibSize</th>\n",
       "    </tr>\n",
       "    <tr>\n",
       "      <th>Cell</th>\n",
       "      <th></th>\n",
       "      <th></th>\n",
       "      <th></th>\n",
       "      <th></th>\n",
       "    </tr>\n",
       "  </thead>\n",
       "  <tbody>\n",
       "    <tr>\n",
       "      <th>Cell2</th>\n",
       "      <td>Cell2</td>\n",
       "      <td>Batch1</td>\n",
       "      <td>Group1</td>\n",
       "      <td>66491.170024</td>\n",
       "    </tr>\n",
       "    <tr>\n",
       "      <th>Cell3</th>\n",
       "      <td>Cell3</td>\n",
       "      <td>Batch1</td>\n",
       "      <td>Group2</td>\n",
       "      <td>72703.636528</td>\n",
       "    </tr>\n",
       "    <tr>\n",
       "      <th>Cell4</th>\n",
       "      <td>Cell4</td>\n",
       "      <td>Batch1</td>\n",
       "      <td>Group1</td>\n",
       "      <td>64562.865010</td>\n",
       "    </tr>\n",
       "  </tbody>\n",
       "</table>\n",
       "</div>"
      ],
      "text/plain": [
       "        Cell   Batch   Group    ExpLibSize\n",
       "Cell                                      \n",
       "Cell2  Cell2  Batch1  Group1  66491.170024\n",
       "Cell3  Cell3  Batch1  Group2  72703.636528\n",
       "Cell4  Cell4  Batch1  Group1  64562.865010"
      ]
     },
     "execution_count": 104,
     "metadata": {},
     "output_type": "execute_result"
    }
   ],
   "source": [
    "adata_true.obs[1:4]"
   ]
  },
  {
   "cell_type": "code",
   "execution_count": 106,
   "metadata": {},
   "outputs": [
    {
     "data": {
      "text/html": [
       "<div>\n",
       "<style scoped>\n",
       "    .dataframe tbody tr th:only-of-type {\n",
       "        vertical-align: middle;\n",
       "    }\n",
       "\n",
       "    .dataframe tbody tr th {\n",
       "        vertical-align: top;\n",
       "    }\n",
       "\n",
       "    .dataframe thead th {\n",
       "        text-align: right;\n",
       "    }\n",
       "</style>\n",
       "<table border=\"1\" class=\"dataframe\">\n",
       "  <thead>\n",
       "    <tr style=\"text-align: right;\">\n",
       "      <th></th>\n",
       "      <th>Gene</th>\n",
       "      <th>BaseGeneMean</th>\n",
       "      <th>OutlierFactor</th>\n",
       "      <th>GeneMean</th>\n",
       "      <th>DEFacGroup1</th>\n",
       "      <th>DEFacGroup2</th>\n",
       "    </tr>\n",
       "    <tr>\n",
       "      <th>Gene</th>\n",
       "      <th></th>\n",
       "      <th></th>\n",
       "      <th></th>\n",
       "      <th></th>\n",
       "      <th></th>\n",
       "      <th></th>\n",
       "    </tr>\n",
       "  </thead>\n",
       "  <tbody>\n",
       "    <tr>\n",
       "      <th>Gene2</th>\n",
       "      <td>Gene2</td>\n",
       "      <td>0.777366</td>\n",
       "      <td>1.0</td>\n",
       "      <td>0.777366</td>\n",
       "      <td>1.0</td>\n",
       "      <td>1.0</td>\n",
       "    </tr>\n",
       "    <tr>\n",
       "      <th>Gene3</th>\n",
       "      <td>Gene3</td>\n",
       "      <td>0.145913</td>\n",
       "      <td>1.0</td>\n",
       "      <td>0.145913</td>\n",
       "      <td>1.0</td>\n",
       "      <td>1.0</td>\n",
       "    </tr>\n",
       "    <tr>\n",
       "      <th>Gene4</th>\n",
       "      <td>Gene4</td>\n",
       "      <td>4.375650</td>\n",
       "      <td>1.0</td>\n",
       "      <td>4.375650</td>\n",
       "      <td>1.0</td>\n",
       "      <td>1.0</td>\n",
       "    </tr>\n",
       "  </tbody>\n",
       "</table>\n",
       "</div>"
      ],
      "text/plain": [
       "        Gene  BaseGeneMean  OutlierFactor  GeneMean  DEFacGroup1  DEFacGroup2\n",
       "Gene                                                                         \n",
       "Gene2  Gene2      0.777366            1.0  0.777366          1.0          1.0\n",
       "Gene3  Gene3      0.145913            1.0  0.145913          1.0          1.0\n",
       "Gene4  Gene4      4.375650            1.0  4.375650          1.0          1.0"
      ]
     },
     "execution_count": 106,
     "metadata": {},
     "output_type": "execute_result"
    }
   ],
   "source": [
    "adata_true.var[1:4]"
   ]
  },
  {
   "cell_type": "code",
   "execution_count": 107,
   "metadata": {},
   "outputs": [],
   "source": [
    "# Normalization\n",
    "sc.pp.normalize_per_cell(adata_true)\n",
    "sc.pp.log1p(adata_true)\n",
    "sc.pp.pca(adata_true)"
   ]
  },
  {
   "cell_type": "markdown",
   "metadata": {},
   "source": [
    "### See the scatter plot to check how we are doing"
   ]
  },
  {
   "cell_type": "code",
   "execution_count": 109,
   "metadata": {},
   "outputs": [
    {
     "data": {
      "image/png": "[encoded data removed]",
      "text/plain": [
       "<Figure size 432x288 with 1 Axes>"
      ]
     },
     "metadata": {},
     "output_type": "display_data"
    },
    {
     "data": {
      "image/png": "[encoded data removed]",
      "text/plain": [
       "<Figure size 432x288 with 1 Axes>"
      ]
     },
     "metadata": {},
     "output_type": "display_data"
    }
   ],
   "source": [
    "\n",
    "sc.pl.pca_scatter(adataNoisy, color='Group', size=20, title='Original Noisy counts')\n",
    "sc.pl.pca_scatter(adata_true, color='Group', size=20, title='True counts (no dropout)')"
   ]
  },
  {
   "cell_type": "code",
   "execution_count": 23,
   "metadata": {},
   "outputs": [],
   "source": [
    "#sc.pl.clustermap(adata, 'Group')"
   ]
  },
  {
   "cell_type": "code",
   "execution_count": 24,
   "metadata": {},
   "outputs": [],
   "source": [
    "#sc.pl.clustermap(adata_true, 'Group')"
   ]
  },
  {
   "cell_type": "markdown",
   "metadata": {},
   "source": [
    "# I am going to use Tensorflow 2.0 to implement autoencoder that will be used to denoise the data"
   ]
  },
  {
   "cell_type": "code",
   "execution_count": 123,
   "metadata": {},
   "outputs": [
    {
     "name": "stdout",
     "output_type": "stream",
     "text": [
      "<module 'tensorflow_core._api.v2.version' from '/home/ivory/anaconda3/lib/python3.7/site-packages/tensorflow_core/_api/v2/version/__init__.py'>\n"
     ]
    }
   ],
   "source": [
    "import tensorflow as tf\n",
    "import scipy as sp\n",
    "import numpy as np\n",
    "print(tf.version)"
   ]
  },
  {
   "cell_type": "code",
   "execution_count": 124,
   "metadata": {},
   "outputs": [],
   "source": [
    "np.random.seed(1)\n",
    "tf.random.set_seed(1)\n",
    "\n",
    "adata_ae = sc.AnnData(counts.values, obs=cellinfo, var=geneinfo)\n",
    "adata_ae.obs_names = cellinfo.Cell\n",
    "adata_ae.var_names = geneinfo.Gene\n",
    "sc.pp.filter_genes(adata_ae, min_counts=1)"
   ]
  },
  {
   "cell_type": "code",
   "execution_count": 125,
   "metadata": {},
   "outputs": [
    {
     "data": {
      "text/plain": [
       "array([[  38.,    0.,   25., ..., 1571.,    7.,  169.],\n",
       "       [   0.,   36.,    0., ...,    0.,    0.,  104.],\n",
       "       [  26.,   96.,    0., ..., 1471.,    7.,  100.],\n",
       "       ...,\n",
       "       [   0.,   45.,    0., ..., 1060.,    0.,   65.],\n",
       "       [   0.,   79.,    0., ..., 1244.,    0.,  106.],\n",
       "       [  28.,    0.,   13., ...,  993.,    0.,  106.]], dtype=float32)"
      ]
     },
     "execution_count": 125,
     "metadata": {},
     "output_type": "execute_result"
    }
   ],
   "source": [
    "adata_ae.X"
   ]
  },
  {
   "cell_type": "code",
   "execution_count": 126,
   "metadata": {},
   "outputs": [],
   "source": [
    "input_size = adata_ae.n_vars\n",
    "output_size = adata_ae.n_vars"
   ]
  },
  {
   "cell_type": "code",
   "execution_count": 127,
   "metadata": {},
   "outputs": [
    {
     "name": "stdout",
     "output_type": "stream",
     "text": [
      "<class 'int'>\n",
      "198\n"
     ]
    }
   ],
   "source": [
    "print(type(input_size))\n",
    "print(input_size)"
   ]
  },
  {
   "cell_type": "code",
   "execution_count": 128,
   "metadata": {},
   "outputs": [
    {
     "name": "stdout",
     "output_type": "stream",
     "text": [
      "2000\n"
     ]
    }
   ],
   "source": [
    "print(adata_ae.n_obs) #2 Number of cells, i.e. samples"
   ]
  },
  {
   "cell_type": "code",
   "execution_count": 129,
   "metadata": {},
   "outputs": [],
   "source": [
    "#adata_ae.obs\n",
    "import os, tempfile, shutil, random\n",
    "# set seed for reproducibility\n",
    "random_state=0\n",
    "random.seed(random_state)\n",
    "np.random.seed(random_state)\n",
    "tf.compat.v1.set_random_seed(random_state)\n",
    "os.environ['PYTHONHASHSEED'] = '0'"
   ]
  },
  {
   "cell_type": "code",
   "execution_count": 130,
   "metadata": {},
   "outputs": [],
   "source": [
    "\n",
    "adata_ae.obs['dca_split'] = 'train'\n",
    "adata_ae.obs['dca_split'] = adata_ae.obs['dca_split'].astype('category') # Convert to categorical variable to save memory"
   ]
  },
  {
   "cell_type": "code",
   "execution_count": 131,
   "metadata": {},
   "outputs": [
    {
     "data": {
      "text/html": [
       "<div>\n",
       "<style scoped>\n",
       "    .dataframe tbody tr th:only-of-type {\n",
       "        vertical-align: middle;\n",
       "    }\n",
       "\n",
       "    .dataframe tbody tr th {\n",
       "        vertical-align: top;\n",
       "    }\n",
       "\n",
       "    .dataframe thead th {\n",
       "        text-align: right;\n",
       "    }\n",
       "</style>\n",
       "<table border=\"1\" class=\"dataframe\">\n",
       "  <thead>\n",
       "    <tr style=\"text-align: right;\">\n",
       "      <th></th>\n",
       "      <th>Cell</th>\n",
       "      <th>Batch</th>\n",
       "      <th>Group</th>\n",
       "      <th>ExpLibSize</th>\n",
       "      <th>dca_split</th>\n",
       "    </tr>\n",
       "    <tr>\n",
       "      <th>Cell</th>\n",
       "      <th></th>\n",
       "      <th></th>\n",
       "      <th></th>\n",
       "      <th></th>\n",
       "      <th></th>\n",
       "    </tr>\n",
       "  </thead>\n",
       "  <tbody>\n",
       "    <tr>\n",
       "      <th>Cell2</th>\n",
       "      <td>Cell2</td>\n",
       "      <td>Batch1</td>\n",
       "      <td>Group1</td>\n",
       "      <td>66491.170024</td>\n",
       "      <td>train</td>\n",
       "    </tr>\n",
       "    <tr>\n",
       "      <th>Cell3</th>\n",
       "      <td>Cell3</td>\n",
       "      <td>Batch1</td>\n",
       "      <td>Group2</td>\n",
       "      <td>72703.636528</td>\n",
       "      <td>train</td>\n",
       "    </tr>\n",
       "    <tr>\n",
       "      <th>Cell4</th>\n",
       "      <td>Cell4</td>\n",
       "      <td>Batch1</td>\n",
       "      <td>Group1</td>\n",
       "      <td>64562.865010</td>\n",
       "      <td>train</td>\n",
       "    </tr>\n",
       "  </tbody>\n",
       "</table>\n",
       "</div>"
      ],
      "text/plain": [
       "        Cell   Batch   Group    ExpLibSize dca_split\n",
       "Cell                                                \n",
       "Cell2  Cell2  Batch1  Group1  66491.170024     train\n",
       "Cell3  Cell3  Batch1  Group2  72703.636528     train\n",
       "Cell4  Cell4  Batch1  Group1  64562.865010     train"
      ]
     },
     "execution_count": 131,
     "metadata": {},
     "output_type": "execute_result"
    }
   ],
   "source": [
    "adata_ae.obs[1:4]"
   ]
  },
  {
   "cell_type": "code",
   "execution_count": 132,
   "metadata": {},
   "outputs": [],
   "source": [
    "sc.pp.filter_genes(adata_ae, min_counts = 1)\n",
    "sc.pp.filter_cells(adata_ae, min_counts = 1)\n",
    "adata_ae.raw = adata_ae.copy()\n",
    "sc.pp.normalize_per_cell(adata_ae)\n",
    "adata_ae.obs['size_factors'] = adata_ae.obs.n_counts / np.median(adata_ae.obs.n_counts)\n",
    "sc.pp.log1p(adata_ae)\n",
    "sc.pp.scale(adata_ae)"
   ]
  },
  {
   "cell_type": "code",
   "execution_count": 133,
   "metadata": {},
   "outputs": [
    {
     "name": "stdout",
     "output_type": "stream",
     "text": [
      "[[ 0.902312   -1.5697504   1.8161751  ...  0.06253445  1.6440285\n",
      "   0.46799985]\n",
      " [-1.0550072   0.33948302 -0.63666123 ... -6.0756736  -0.4679634\n",
      "   0.38129777]\n",
      " [ 0.82448703  0.8167846  -0.63666123 ...  0.22190274  1.8985392\n",
      "   0.3089332 ]\n",
      " ...\n",
      " [-1.0550072   0.54998523 -0.63666123 ...  0.1623721  -0.4679634\n",
      "   0.2122608 ]\n",
      " [-1.0550072   0.8385748  -0.63666123 ...  0.28199783 -0.4679634\n",
      "   0.4761462 ]\n",
      " [ 1.1266862  -1.5697504   1.8442289  ...  0.26620817 -0.4679634\n",
      "   0.594632  ]]\n",
      "(2000, 198)\n"
     ]
    }
   ],
   "source": [
    "print(adata_ae.X)\n",
    "print(adata_ae.X.shape)"
   ]
  },
  {
   "cell_type": "code",
   "execution_count": 134,
   "metadata": {},
   "outputs": [
    {
     "data": {
      "text/html": [
       "<div>\n",
       "<style scoped>\n",
       "    .dataframe tbody tr th:only-of-type {\n",
       "        vertical-align: middle;\n",
       "    }\n",
       "\n",
       "    .dataframe tbody tr th {\n",
       "        vertical-align: top;\n",
       "    }\n",
       "\n",
       "    .dataframe thead th {\n",
       "        text-align: right;\n",
       "    }\n",
       "</style>\n",
       "<table border=\"1\" class=\"dataframe\">\n",
       "  <thead>\n",
       "    <tr style=\"text-align: right;\">\n",
       "      <th></th>\n",
       "      <th>Cell</th>\n",
       "      <th>Batch</th>\n",
       "      <th>Group</th>\n",
       "      <th>ExpLibSize</th>\n",
       "      <th>dca_split</th>\n",
       "      <th>n_counts</th>\n",
       "      <th>size_factors</th>\n",
       "    </tr>\n",
       "    <tr>\n",
       "      <th>Cell</th>\n",
       "      <th></th>\n",
       "      <th></th>\n",
       "      <th></th>\n",
       "      <th></th>\n",
       "      <th></th>\n",
       "      <th></th>\n",
       "      <th></th>\n",
       "    </tr>\n",
       "  </thead>\n",
       "  <tbody>\n",
       "    <tr>\n",
       "      <th>Cell2</th>\n",
       "      <td>Cell2</td>\n",
       "      <td>Batch1</td>\n",
       "      <td>Group1</td>\n",
       "      <td>66491.170024</td>\n",
       "      <td>train</td>\n",
       "      <td>64216.0</td>\n",
       "      <td>1.121491</td>\n",
       "    </tr>\n",
       "    <tr>\n",
       "      <th>Cell3</th>\n",
       "      <td>Cell3</td>\n",
       "      <td>Batch1</td>\n",
       "      <td>Group2</td>\n",
       "      <td>72703.636528</td>\n",
       "      <td>train</td>\n",
       "      <td>70120.0</td>\n",
       "      <td>1.224600</td>\n",
       "    </tr>\n",
       "    <tr>\n",
       "      <th>Cell4</th>\n",
       "      <td>Cell4</td>\n",
       "      <td>Batch1</td>\n",
       "      <td>Group1</td>\n",
       "      <td>64562.865010</td>\n",
       "      <td>train</td>\n",
       "      <td>61381.0</td>\n",
       "      <td>1.071979</td>\n",
       "    </tr>\n",
       "    <tr>\n",
       "      <th>Cell5</th>\n",
       "      <td>Cell5</td>\n",
       "      <td>Batch1</td>\n",
       "      <td>Group1</td>\n",
       "      <td>49060.686986</td>\n",
       "      <td>train</td>\n",
       "      <td>48384.0</td>\n",
       "      <td>0.844995</td>\n",
       "    </tr>\n",
       "    <tr>\n",
       "      <th>Cell6</th>\n",
       "      <td>Cell6</td>\n",
       "      <td>Batch1</td>\n",
       "      <td>Group1</td>\n",
       "      <td>53130.339924</td>\n",
       "      <td>train</td>\n",
       "      <td>50737.0</td>\n",
       "      <td>0.886089</td>\n",
       "    </tr>\n",
       "    <tr>\n",
       "      <th>Cell7</th>\n",
       "      <td>Cell7</td>\n",
       "      <td>Batch1</td>\n",
       "      <td>Group1</td>\n",
       "      <td>61886.063295</td>\n",
       "      <td>train</td>\n",
       "      <td>56134.0</td>\n",
       "      <td>0.980344</td>\n",
       "    </tr>\n",
       "    <tr>\n",
       "      <th>Cell8</th>\n",
       "      <td>Cell8</td>\n",
       "      <td>Batch1</td>\n",
       "      <td>Group2</td>\n",
       "      <td>33333.046267</td>\n",
       "      <td>train</td>\n",
       "      <td>32072.0</td>\n",
       "      <td>0.560117</td>\n",
       "    </tr>\n",
       "    <tr>\n",
       "      <th>Cell9</th>\n",
       "      <td>Cell9</td>\n",
       "      <td>Batch1</td>\n",
       "      <td>Group1</td>\n",
       "      <td>50534.783214</td>\n",
       "      <td>train</td>\n",
       "      <td>48812.0</td>\n",
       "      <td>0.852470</td>\n",
       "    </tr>\n",
       "    <tr>\n",
       "      <th>Cell10</th>\n",
       "      <td>Cell10</td>\n",
       "      <td>Batch1</td>\n",
       "      <td>Group1</td>\n",
       "      <td>70243.067738</td>\n",
       "      <td>train</td>\n",
       "      <td>67702.0</td>\n",
       "      <td>1.182371</td>\n",
       "    </tr>\n",
       "  </tbody>\n",
       "</table>\n",
       "</div>"
      ],
      "text/plain": [
       "          Cell   Batch   Group    ExpLibSize dca_split  n_counts  size_factors\n",
       "Cell                                                                          \n",
       "Cell2    Cell2  Batch1  Group1  66491.170024     train   64216.0      1.121491\n",
       "Cell3    Cell3  Batch1  Group2  72703.636528     train   70120.0      1.224600\n",
       "Cell4    Cell4  Batch1  Group1  64562.865010     train   61381.0      1.071979\n",
       "Cell5    Cell5  Batch1  Group1  49060.686986     train   48384.0      0.844995\n",
       "Cell6    Cell6  Batch1  Group1  53130.339924     train   50737.0      0.886089\n",
       "Cell7    Cell7  Batch1  Group1  61886.063295     train   56134.0      0.980344\n",
       "Cell8    Cell8  Batch1  Group2  33333.046267     train   32072.0      0.560117\n",
       "Cell9    Cell9  Batch1  Group1  50534.783214     train   48812.0      0.852470\n",
       "Cell10  Cell10  Batch1  Group1  70243.067738     train   67702.0      1.182371"
      ]
     },
     "execution_count": 134,
     "metadata": {},
     "output_type": "execute_result"
    }
   ],
   "source": [
    "adata_ae.obs[1:10]"
   ]
  },
  {
   "cell_type": "code",
   "execution_count": 135,
   "metadata": {},
   "outputs": [
    {
     "name": "stdout",
     "output_type": "stream",
     "text": [
      "AnnData object with n_obs × n_vars = 2000 × 198 \n",
      "    obs: 'Cell', 'Batch', 'Group', 'ExpLibSize', 'dca_split', 'n_counts', 'size_factors'\n",
      "    var: 'Gene', 'BaseGeneMean', 'OutlierFactor', 'GeneMean', 'DEFacGroup1', 'DEFacGroup2', 'n_counts'\n",
      "198\n",
      "(2000, 198)\n"
     ]
    }
   ],
   "source": [
    "print(adata_ae)\n",
    "print(adata_ae.n_vars)\n",
    "print(adata_ae.raw.X.shape)"
   ]
  },
  {
   "cell_type": "code",
   "execution_count": 136,
   "metadata": {},
   "outputs": [
    {
     "data": {
      "image/png": "[encoded data removed]",
      "text/plain": [
       "<Figure size 432x288 with 1 Axes>"
      ]
     },
     "metadata": {
      "needs_background": "light"
     },
     "output_type": "display_data"
    }
   ],
   "source": [
    "from sklearn.metrics import silhouette_score\n",
    "sc.pp.pca(adata_ae)\n",
    "\n",
    "sil_orig = silhouette_score(adataNoisy.obsm['X_pca'][:, :2], adataNoisy.obs.Group)\n",
    "sil_true = silhouette_score(adata_true.obsm['X_pca'][:, :2], adata_true.obs.Group)\n",
    "sil_ae = silhouette_score(adata_ae.obsm['X_pca'][:, :2], adata_ae.obs.Group)\n",
    "\n",
    "sns.barplot(x=['Original', 'True counts', 'Denoised'], \n",
    "            y=[sil_orig, sil_true, sil_ae])\n",
    "\n",
    "plt.title('Silhouette coefficients');"
   ]
  },
  {
   "cell_type": "markdown",
   "metadata": {},
   "source": [
    "## Lets create neural net layers that will compose AutoEncoder"
   ]
  },
  {
   "cell_type": "code",
   "execution_count": 137,
   "metadata": {},
   "outputs": [],
   "source": [
    "Dispersion_Activation = lambda x: tf.clip_by_value(tf.nn.softplus(x), 1e-4, 1e4)\n",
    "Mean_Activation = lambda x: tf.clip_by_value(tf.keras.backend.exp(x), 1e-5, 1e6) # tf.keras.backend.exp for Element-wise exponential.\n",
    "ColwiseMultLayer = tf.keras.layers.Lambda(lambda l: l[0]*tf.reshape(l[1], (-1,1))) #Class Lambda Wraps arbitrary expressions as a Layer object."
   ]
  },
  {
   "cell_type": "code",
   "execution_count": 138,
   "metadata": {},
   "outputs": [],
   "source": [
    "def _nan2zero(x):\n",
    "    return tf.where(tf.math.is_nan(x), tf.zeros_like(x), x)\n",
    "\n",
    "def _nan2inf(x):\n",
    "    return tf.where(tf.math.is_nan(x), tf.zeros_like(x)+np.inf, x)"
   ]
  },
  {
   "cell_type": "markdown",
   "metadata": {},
   "source": [
    "#### Single-cell data are assumed to be Zero-Inflated Negative Binomial Distribution. As a result, for Autoencoder training, Zero-Inflated Negative Binomial Distribution is used. Using the ZINB noise model, Neuralnet can learn gene-specific parameters mean, dispersion and dropout probability based on the input gene expression data. The inferred mean parameter of the distribution represents the denoised reconstruction and the output of DCA"
   ]
  },
  {
   "cell_type": "code",
   "execution_count": 139,
   "metadata": {},
   "outputs": [],
   "source": [
    "# Negative Bionomial\n",
    "class NB(object):\n",
    "    def __init__(self, theta=None, masking=False, scope='nbinom_loss/',\n",
    "                 scale_factor=1.0, debug=False):\n",
    "\n",
    "        # for numerical stability\n",
    "        self.eps = 1e-10\n",
    "        self.scale_factor = scale_factor\n",
    "        self.debug = debug\n",
    "        self.scope = scope\n",
    "        self.masking = masking\n",
    "        self.theta = theta\n",
    "\n",
    "    def loss(self, y_true, y_pred, mean=True):\n",
    "        scale_factor = self.scale_factor\n",
    "        eps = self.eps\n",
    "\n",
    "        with tf.name_scope(self.scope):\n",
    "            y_true = tf.cast(y_true, tf.float32)\n",
    "            y_pred = tf.cast(y_pred, tf.float32) * scale_factor\n",
    "\n",
    "            if self.masking:\n",
    "                nelem = _nelem(y_true)\n",
    "                y_true = _nan2zero(y_true)\n",
    "\n",
    "            # Clip theta\n",
    "            theta = tf.minimum(self.theta, 1e6)\n",
    "\n",
    "            t1 = tf.math.lgamma(theta+eps) + tf.math.lgamma(y_true+1.0) - tf.math.lgamma(y_true+theta+eps)\n",
    "            t2 = (theta+y_true) * tf.math.log(1.0 + (y_pred/(theta+eps))) + (y_true * (tf.math.log(theta+eps) - tf.math.log(y_pred+eps)))\n",
    "\n",
    "            if self.debug:\n",
    "                assert_ops = [\n",
    "                        tf.verify_tensor_all_finite(y_pred, 'y_pred has inf/nans'),\n",
    "                        tf.verify_tensor_all_finite(t1, 't1 has inf/nans'),\n",
    "                        tf.verify_tensor_all_finite(t2, 't2 has inf/nans')]\n",
    "\n",
    "                tf.summary.histogram('t1', t1)\n",
    "                tf.summary.histogram('t2', t2)\n",
    "\n",
    "                with tf.control_dependencies(assert_ops):\n",
    "                    final = t1 + t2\n",
    "\n",
    "            else:\n",
    "                final = t1 + t2\n",
    "\n",
    "            final = _nan2inf(final)\n",
    "\n",
    "            if mean:\n",
    "                if self.masking:\n",
    "                    final = tf.divide(tf.reduce_sum(final), nelem)\n",
    "                else:\n",
    "                        final = tf.reduce_mean(final)\n",
    "\n",
    "\n",
    "        return final\n",
    "\n",
    "class ZINB(NB):\n",
    "    def __init__(self, pi, ridge_lambda=0.0,  scope='zinb_loss/', **kwargs):\n",
    "        super().__init__(scope=scope, **kwargs)\n",
    "        self.pi = pi\n",
    "        self.ridge_lambda = ridge_lambda\n",
    "\n",
    "    def loss(self, y_true, y_pred, mean=True):\n",
    "        scale_factor = self.scale_factor\n",
    "        eps = self.eps\n",
    "        \n",
    "        with tf.name_scope(self.scope):\n",
    "            # reuse existing NB neg.log.lik.\n",
    "            # mean is always False here, because everything is calculated\n",
    "            # element-wise. we take the mean only in the end\n",
    "            nb_case = super().loss(y_true, y_pred, mean=False) - tf.math.log(1.0-self.pi+eps)\n",
    "\n",
    "            y_true = tf.cast(y_true, tf.float32)\n",
    "            y_pred = tf.cast(y_pred, tf.float32) * scale_factor\n",
    "            theta = tf.minimum(self.theta, 1e6)\n",
    "\n",
    "            zero_nb = tf.pow(theta/(theta+y_pred+eps), theta)\n",
    "            zero_case = -tf.math.log(self.pi + ((1.0-self.pi)*zero_nb)+eps)\n",
    "            result = tf.where(tf.less(y_true, 1e-8), zero_case, nb_case)\n",
    "            ridge = self.ridge_lambda*tf.square(self.pi)\n",
    "            result += ridge\n",
    "\n",
    "            if mean:\n",
    "                if self.masking:\n",
    "                    result = _reduce_mean(result)\n",
    "                else:\n",
    "                    result = tf.reduce_mean(result)\n",
    "\n",
    "            result = _nan2inf(result)\n",
    "\n",
    "            if self.debug:\n",
    "                tf.summary.histogram('nb_case', nb_case)\n",
    "                tf.summary.histogram('zero_nb', zero_nb)\n",
    "                tf.summary.histogram('zero_case', zero_case)\n",
    "                tf.summary.histogram('ridge', ridge)\n",
    "\n",
    "        return result"
   ]
  },
  {
   "cell_type": "code",
   "execution_count": 140,
   "metadata": {},
   "outputs": [],
   "source": [
    "class SliceLayer(tf.keras.layers.Layer):\n",
    "    def __init__(self, index, **kwargs):\n",
    "        self.index = index\n",
    "        super().__init__(**kwargs)\n",
    "\n",
    "    def build(self, input_shape):\n",
    "        if not isinstance(input_shape, list):\n",
    "            raise ValueError('Input should be a list')\n",
    "        super().build(input_shape)\n",
    "\n",
    "    def call(self, x):\n",
    "        assert isinstance(x, list), 'SliceLayer input is not a list'\n",
    "        return x[self.index]\n",
    "\n",
    "    def compute_output_shape(self, input_shape):\n",
    "        return input_shape[self.index]"
   ]
  },
  {
   "cell_type": "markdown",
   "metadata": {},
   "source": [
    "#### Now we will construct Neural Network to build AutoEncoder"
   ]
  },
  {
   "cell_type": "code",
   "execution_count": 141,
   "metadata": {},
   "outputs": [],
   "source": [
    "inputs_layers = tf.keras.Input(shape=(input_size,), name='count') # returns an input placeholder\n",
    "\n",
    "size_factors_layers = tf.keras.Input(shape =(1,), name='size_factors')\n",
    "\n",
    "x = inputs_layers\n",
    "# A layer instance is callable on a tensor, and returns a tensor.\n",
    "x = tf.keras.layers.Dense(64, activation=None, kernel_initializer= 'glorot_uniform', \n",
    "                            kernel_regularizer=tf.keras.regularizers.l1_l2(0.0, 0.0), name=\"enc\")(x)\n",
    "x = tf.keras.layers.BatchNormalization(center=True, scale=False, name=\"batchNormal_enc\")(x)\n",
    "x = tf.keras.layers.Activation('relu', name=\"activation_enc\")(x)\n",
    "\n",
    "x = tf.keras.layers.Dense(32, activation=None,  kernel_initializer= 'glorot_uniform', \n",
    "                            kernel_regularizer=tf.keras.regularizers.l1_l2(0.0, 0.0), name=\"center\")(x)\n",
    "x = tf.keras.layers.BatchNormalization(center=True, scale=False, name=\"batchNormal_center\")(x)\n",
    "x = tf.keras.layers.Activation('relu', name=\"activation_center\")(x)\n",
    "\n",
    "x = tf.keras.layers.Dense(64, activation=None,  kernel_initializer= 'glorot_uniform', \n",
    "                            kernel_regularizer=tf.keras.regularizers.l1_l2(0.0, 0.0), name=\"dec\")(x)\n",
    "x = tf.keras.layers.BatchNormalization(center=True, scale=False, name=\"batchNormal_dec\")(x)\n",
    "x =tf.keras.layers.Activation('relu', name=\"activation_dec\")(x)\n",
    "\n",
    "decoder_outputs = x\n",
    "    \n",
    "pi =  tf.keras.layers.Dense(output_size, activation='sigmoid', kernel_initializer='glorot_uniform',\n",
    "                       kernel_regularizer=tf.keras.regularizers.l1_l2(0.0, 0.0), name='pi')(decoder_outputs)\n",
    "\n",
    "disp = tf.keras.layers.Dense(output_size, activation=Dispersion_Activation, kernel_initializer='glorot_uniform',\n",
    "                   kernel_regularizer=tf.keras.regularizers.l1_l2(0.0, 0.0), name='dispersion')(decoder_outputs)\n",
    "\n",
    "mean = tf.keras.layers.Dense(output_size, activation=Mean_Activation, kernel_initializer='glorot_uniform',\n",
    "                       kernel_regularizer=tf.keras.regularizers.l1_l2(0.0, 0.0), name='mean')(decoder_outputs)\n",
    "\n",
    "output = ColwiseMultLayer([mean, size_factors_layers])\n",
    "\n",
    "output = SliceLayer(0, name='slice')([output, disp, pi])\n",
    "    \n"
   ]
  },
  {
   "cell_type": "code",
   "execution_count": 142,
   "metadata": {},
   "outputs": [],
   "source": [
    "zinb = ZINB(pi, theta=disp, ridge_lambda=0.0, debug=False)"
   ]
  },
  {
   "cell_type": "code",
   "execution_count": 143,
   "metadata": {},
   "outputs": [],
   "source": [
    "model = tf.keras.Model(inputs=[inputs_layers, size_factors_layers], outputs=output)\n",
    "optimizer = tf.keras.optimizers.RMSprop(lr = 1e-06, clipvalue = 5.)"
   ]
  },
  {
   "cell_type": "code",
   "execution_count": 144,
   "metadata": {},
   "outputs": [
    {
     "data": {
      "text/plain": [
       "<bound method ZINB.loss of <__main__.ZINB object at 0x7f998fb21cc0>>"
      ]
     },
     "execution_count": 144,
     "metadata": {},
     "output_type": "execute_result"
    }
   ],
   "source": [
    "zinb.loss"
   ]
  },
  {
   "cell_type": "code",
   "execution_count": 146,
   "metadata": {},
   "outputs": [],
   "source": [
    "## These are extra models that are needed if we want to predict parameters of ZINB Model\n",
    "pi_prediction = tf.keras.Model(inputs=inputs_layers, outputs=pi)\n",
    "dispersion_prediction = tf.keras.Model(inputs=inputs_layers, outputs=disp)\n",
    "mean_prediction = tf.keras.Model(inputs=inputs_layers, outputs=mean)\n",
    "decode_prediction = tf.keras.Model(inputs=inputs_layers, outputs=decoder_outputs)"
   ]
  },
  {
   "cell_type": "code",
   "execution_count": 147,
   "metadata": {},
   "outputs": [],
   "source": [
    "model.compile(\n",
    "    optimizer='adam', \n",
    "    loss=zinb.loss\n",
    ")"
   ]
  },
  {
   "cell_type": "code",
   "execution_count": 148,
   "metadata": {},
   "outputs": [],
   "source": [
    "# Callbacks\n",
    "callbacks = []\n",
    "reduce_lr = 10\n",
    "lr_cb = tf.keras.callbacks.ReduceLROnPlateau(monitor='val_loss', patience=reduce_lr, verbose=True)\n",
    "callbacks.append(lr_cb)\n",
    "\n",
    "early_stop=15\n",
    "es_cb = tf.keras.callbacks.EarlyStopping(monitor='val_loss', patience=early_stop, verbose=True)\n",
    "callbacks.append(es_cb)"
   ]
  },
  {
   "cell_type": "code",
   "execution_count": 150,
   "metadata": {},
   "outputs": [],
   "source": [
    "## This is just an example of custom callback, we are not using it.\n",
    "import datetime\n",
    "\n",
    "class MyCustomCallback(tf.keras.callbacks.Callback):\n",
    "    def on_train_batch_begin(self, batch, logs=None):\n",
    "        print('Training: batch {} begins at {}'.format(batch, datetime.datetime.now().time()))\n",
    "\n",
    "    def on_train_batch_end(self, batch, logs=None):\n",
    "        print('Training: batch {} ends at {}'.format(batch, datetime.datetime.now().time()))\n",
    "\n",
    "    def on_test_batch_begin(self, batch, logs=None):\n",
    "        print('Evaluating: batch {} begins at {}'.format(batch, datetime.datetime.now().time()))\n",
    "\n",
    "    def on_test_batch_end(self, batch, logs=None):\n",
    "        print('Evaluating: batch {} ends at {}'.format(batch, datetime.datetime.now().time()))\n"
   ]
  },
  {
   "cell_type": "code",
   "execution_count": 151,
   "metadata": {},
   "outputs": [
    {
     "name": "stdout",
     "output_type": "stream",
     "text": [
      "Model: \"model_5\"\n",
      "__________________________________________________________________________________________________\n",
      "Layer (type)                    Output Shape         Param #     Connected to                     \n",
      "==================================================================================================\n",
      "count (InputLayer)              [(None, 198)]        0                                            \n",
      "__________________________________________________________________________________________________\n",
      "enc (Dense)                     (None, 64)           12736       count[0][0]                      \n",
      "__________________________________________________________________________________________________\n",
      "batchNormal_enc (BatchNormaliza (None, 64)           192         enc[0][0]                        \n",
      "__________________________________________________________________________________________________\n",
      "activation_enc (Activation)     (None, 64)           0           batchNormal_enc[0][0]            \n",
      "__________________________________________________________________________________________________\n",
      "center (Dense)                  (None, 32)           2080        activation_enc[0][0]             \n",
      "__________________________________________________________________________________________________\n",
      "batchNormal_center (BatchNormal (None, 32)           96          center[0][0]                     \n",
      "__________________________________________________________________________________________________\n",
      "activation_center (Activation)  (None, 32)           0           batchNormal_center[0][0]         \n",
      "__________________________________________________________________________________________________\n",
      "dec (Dense)                     (None, 64)           2112        activation_center[0][0]          \n",
      "__________________________________________________________________________________________________\n",
      "batchNormal_dec (BatchNormaliza (None, 64)           192         dec[0][0]                        \n",
      "__________________________________________________________________________________________________\n",
      "activation_dec (Activation)     (None, 64)           0           batchNormal_dec[0][0]            \n",
      "__________________________________________________________________________________________________\n",
      "mean (Dense)                    (None, 198)          12870       activation_dec[0][0]             \n",
      "__________________________________________________________________________________________________\n",
      "size_factors (InputLayer)       [(None, 1)]          0                                            \n",
      "__________________________________________________________________________________________________\n",
      "lambda_1 (Lambda)               (None, 198)          0           mean[0][0]                       \n",
      "                                                                 size_factors[0][0]               \n",
      "__________________________________________________________________________________________________\n",
      "dispersion (Dense)              (None, 198)          12870       activation_dec[0][0]             \n",
      "__________________________________________________________________________________________________\n",
      "pi (Dense)                      (None, 198)          12870       activation_dec[0][0]             \n",
      "__________________________________________________________________________________________________\n",
      "slice (SliceLayer)              (None, 198)          0           lambda_1[0][0]                   \n",
      "                                                                 dispersion[0][0]                 \n",
      "                                                                 pi[0][0]                         \n",
      "==================================================================================================\n",
      "Total params: 56,018\n",
      "Trainable params: 55,698\n",
      "Non-trainable params: 320\n",
      "__________________________________________________________________________________________________\n"
     ]
    }
   ],
   "source": [
    "# Print the model summary to see if everything is okay\n",
    "model.summary()"
   ]
  },
  {
   "cell_type": "markdown",
   "metadata": {},
   "source": [
    "#### Now, we will train the AutoEnoder with Early Stopping  and Reduce Learning Rate on Plateu"
   ]
  },
  {
   "cell_type": "code",
   "execution_count": 152,
   "metadata": {
    "scrolled": true
   },
   "outputs": [
    {
     "name": "stdout",
     "output_type": "stream",
     "text": [
      "WARNING:tensorflow:Falling back from v2 loop because of error: Failed to find data adapter that can handle input: (<class 'dict'> containing {\"<class 'str'>\"} keys and {\"<class 'numpy.ndarray'>\", \"<class 'pandas.core.series.Series'>\"} values), <class 'NoneType'>\n",
      "Train on 1800 samples, validate on 200 samples\n",
      "Epoch 1/1800\n",
      "1800/1800 [==============================] - 3s 1ms/sample - loss: 74.6184 - val_loss: 74.6955\n",
      "Epoch 2/1800\n",
      "1800/1800 [==============================] - 1s 402us/sample - loss: 18.0568 - val_loss: 36.3929\n",
      "Epoch 3/1800\n",
      "1800/1800 [==============================] - 1s 397us/sample - loss: 10.2401 - val_loss: 17.9279\n",
      "Epoch 4/1800\n",
      "1800/1800 [==============================] - 1s 278us/sample - loss: 7.9643 - val_loss: 11.0036\n",
      "Epoch 5/1800\n",
      "1800/1800 [==============================] - 0s 209us/sample - loss: 6.9759 - val_loss: 8.1635\n",
      "Epoch 6/1800\n",
      "1800/1800 [==============================] - 0s 208us/sample - loss: 6.4492 - val_loss: 6.9916\n",
      "Epoch 7/1800\n",
      "1800/1800 [==============================] - 0s 206us/sample - loss: 6.1278 - val_loss: 6.4311\n",
      "Epoch 8/1800\n",
      "1800/1800 [==============================] - 0s 205us/sample - loss: 5.9143 - val_loss: 6.0826\n",
      "Epoch 9/1800\n",
      "1800/1800 [==============================] - 0s 123us/sample - loss: 5.7456 - val_loss: 5.8590\n",
      "Epoch 10/1800\n",
      "1800/1800 [==============================] - 1s 430us/sample - loss: 5.6126 - val_loss: 5.6986\n",
      "Epoch 11/1800\n",
      "1800/1800 [==============================] - 1s 362us/sample - loss: 5.5096 - val_loss: 5.5801\n",
      "Epoch 12/1800\n",
      "1800/1800 [==============================] - 1s 415us/sample - loss: 5.4147 - val_loss: 5.4783\n",
      "Epoch 13/1800\n",
      "1800/1800 [==============================] - 0s 208us/sample - loss: 5.3354 - val_loss: 5.3868\n",
      "Epoch 14/1800\n",
      "1800/1800 [==============================] - 0s 215us/sample - loss: 5.2642 - val_loss: 5.3129\n",
      "Epoch 15/1800\n",
      "1800/1800 [==============================] - 0s 228us/sample - loss: 5.1959 - val_loss: 5.2358\n",
      "Epoch 16/1800\n",
      "1800/1800 [==============================] - 0s 214us/sample - loss: 5.1372 - val_loss: 5.1767\n",
      "Epoch 17/1800\n",
      "1800/1800 [==============================] - 0s 208us/sample - loss: 5.0800 - val_loss: 5.1220\n",
      "Epoch 18/1800\n",
      "1800/1800 [==============================] - 0s 215us/sample - loss: 5.0277 - val_loss: 5.0730\n",
      "Epoch 19/1800\n",
      "1800/1800 [==============================] - 0s 215us/sample - loss: 4.9733 - val_loss: 5.0311\n",
      "Epoch 20/1800\n",
      "1800/1800 [==============================] - 0s 213us/sample - loss: 4.9277 - val_loss: 4.9852\n",
      "Epoch 21/1800\n",
      "1800/1800 [==============================] - 0s 212us/sample - loss: 4.8864 - val_loss: 4.9366\n",
      "Epoch 22/1800\n",
      "1800/1800 [==============================] - 0s 219us/sample - loss: 4.8418 - val_loss: 4.8985\n",
      "Epoch 23/1800\n",
      "1800/1800 [==============================] - 0s 209us/sample - loss: 4.8005 - val_loss: 4.8624\n",
      "Epoch 24/1800\n",
      "1800/1800 [==============================] - 0s 216us/sample - loss: 4.7635 - val_loss: 4.8211\n",
      "Epoch 25/1800\n",
      "1800/1800 [==============================] - 0s 211us/sample - loss: 4.7218 - val_loss: 4.7855\n",
      "Epoch 26/1800\n",
      "1800/1800 [==============================] - 0s 212us/sample - loss: 4.6862 - val_loss: 4.7511\n",
      "Epoch 27/1800\n",
      "1800/1800 [==============================] - 0s 211us/sample - loss: 4.6533 - val_loss: 4.7194\n",
      "Epoch 28/1800\n",
      "1800/1800 [==============================] - 0s 214us/sample - loss: 4.6178 - val_loss: 4.6870\n",
      "Epoch 29/1800\n",
      "1800/1800 [==============================] - 0s 211us/sample - loss: 4.5887 - val_loss: 4.6622\n",
      "Epoch 30/1800\n",
      "1800/1800 [==============================] - 0s 217us/sample - loss: 4.5570 - val_loss: 4.6390\n",
      "Epoch 31/1800\n",
      "1800/1800 [==============================] - 0s 208us/sample - loss: 4.5281 - val_loss: 4.6156\n",
      "Epoch 32/1800\n",
      "1800/1800 [==============================] - 0s 210us/sample - loss: 4.5009 - val_loss: 4.5770\n",
      "Epoch 33/1800\n",
      "1800/1800 [==============================] - 0s 217us/sample - loss: 4.4749 - val_loss: 4.5584\n",
      "Epoch 34/1800\n",
      "1800/1800 [==============================] - 0s 211us/sample - loss: 4.4493 - val_loss: 4.5313\n",
      "Epoch 35/1800\n",
      "1800/1800 [==============================] - 0s 212us/sample - loss: 4.4228 - val_loss: 4.5145\n",
      "Epoch 36/1800\n",
      "1800/1800 [==============================] - 0s 215us/sample - loss: 4.4029 - val_loss: 4.5059\n",
      "Epoch 37/1800\n",
      "1800/1800 [==============================] - 0s 246us/sample - loss: 4.3786 - val_loss: 4.4801\n",
      "Epoch 38/1800\n",
      "1800/1800 [==============================] - 0s 222us/sample - loss: 4.3573 - val_loss: 4.4631\n",
      "Epoch 39/1800\n",
      "1800/1800 [==============================] - 0s 209us/sample - loss: 4.3344 - val_loss: 4.4580\n",
      "Epoch 40/1800\n",
      "1800/1800 [==============================] - 0s 213us/sample - loss: 4.3183 - val_loss: 4.4208\n",
      "Epoch 41/1800\n",
      "1800/1800 [==============================] - 0s 210us/sample - loss: 4.3014 - val_loss: 4.3962\n",
      "Epoch 42/1800\n",
      "1800/1800 [==============================] - 0s 208us/sample - loss: 4.2857 - val_loss: 4.3819\n",
      "Epoch 43/1800\n",
      "1800/1800 [==============================] - 0s 212us/sample - loss: 4.2676 - val_loss: 4.3727\n",
      "Epoch 44/1800\n",
      "1800/1800 [==============================] - 0s 215us/sample - loss: 4.2494 - val_loss: 4.3576\n",
      "Epoch 45/1800\n",
      "1800/1800 [==============================] - 0s 223us/sample - loss: 4.2318 - val_loss: 4.3474\n",
      "Epoch 46/1800\n",
      "1800/1800 [==============================] - 0s 226us/sample - loss: 4.2165 - val_loss: 4.3305\n",
      "Epoch 47/1800\n",
      "1800/1800 [==============================] - 0s 208us/sample - loss: 4.2045 - val_loss: 4.3342\n",
      "Epoch 48/1800\n",
      "1800/1800 [==============================] - 0s 206us/sample - loss: 4.1892 - val_loss: 4.3108\n",
      "Epoch 49/1800\n",
      "1800/1800 [==============================] - 0s 213us/sample - loss: 4.1807 - val_loss: 4.2927\n",
      "Epoch 50/1800\n",
      "1800/1800 [==============================] - 0s 215us/sample - loss: 4.1658 - val_loss: 4.2793\n",
      "Epoch 51/1800\n",
      "1800/1800 [==============================] - 0s 231us/sample - loss: 4.1567 - val_loss: 4.2684\n",
      "Epoch 52/1800\n",
      "1800/1800 [==============================] - 0s 208us/sample - loss: 4.1442 - val_loss: 4.2405\n",
      "Epoch 53/1800\n",
      "1800/1800 [==============================] - 0s 217us/sample - loss: 4.1350 - val_loss: 4.2438\n",
      "Epoch 54/1800\n",
      "1800/1800 [==============================] - 0s 211us/sample - loss: 4.1169 - val_loss: 4.2333\n",
      "Epoch 55/1800\n",
      "1800/1800 [==============================] - 0s 214us/sample - loss: 4.1079 - val_loss: 4.2143\n",
      "Epoch 56/1800\n",
      "1800/1800 [==============================] - 0s 209us/sample - loss: 4.1018 - val_loss: 4.2165\n",
      "Epoch 57/1800\n",
      "1800/1800 [==============================] - 0s 208us/sample - loss: 4.0906 - val_loss: 4.2185\n",
      "Epoch 58/1800\n",
      "1800/1800 [==============================] - 0s 214us/sample - loss: 4.0847 - val_loss: 4.1982\n",
      "Epoch 59/1800\n",
      "1800/1800 [==============================] - 0s 221us/sample - loss: 4.0693 - val_loss: 4.1776\n",
      "Epoch 60/1800\n",
      "1800/1800 [==============================] - 0s 215us/sample - loss: 4.0660 - val_loss: 4.1614\n",
      "Epoch 61/1800\n",
      "1800/1800 [==============================] - 0s 213us/sample - loss: 4.0512 - val_loss: 4.1706\n",
      "Epoch 62/1800\n",
      "1800/1800 [==============================] - 0s 215us/sample - loss: 4.0477 - val_loss: 4.1473\n",
      "Epoch 63/1800\n",
      "1800/1800 [==============================] - 0s 213us/sample - loss: 4.0337 - val_loss: 4.1390\n",
      "Epoch 64/1800\n",
      "1800/1800 [==============================] - 0s 215us/sample - loss: 4.0237 - val_loss: 4.1353\n",
      "Epoch 65/1800\n",
      "1800/1800 [==============================] - 0s 209us/sample - loss: 4.0115 - val_loss: 4.1293\n",
      "Epoch 66/1800\n",
      "1800/1800 [==============================] - 0s 211us/sample - loss: 4.0055 - val_loss: 4.1337\n",
      "Epoch 67/1800\n",
      "1800/1800 [==============================] - 0s 218us/sample - loss: 4.0008 - val_loss: 4.1039\n",
      "Epoch 68/1800\n",
      "1800/1800 [==============================] - 0s 208us/sample - loss: 3.9921 - val_loss: 4.1199\n",
      "Epoch 69/1800\n",
      "1800/1800 [==============================] - 0s 217us/sample - loss: 3.9811 - val_loss: 4.0953\n",
      "Epoch 70/1800\n",
      "1800/1800 [==============================] - 0s 221us/sample - loss: 3.9752 - val_loss: 4.0913\n",
      "Epoch 71/1800\n",
      "1800/1800 [==============================] - 0s 213us/sample - loss: 3.9651 - val_loss: 4.0874\n",
      "Epoch 72/1800\n",
      "1800/1800 [==============================] - 0s 213us/sample - loss: 3.9576 - val_loss: 4.0668\n",
      "Epoch 73/1800\n"
     ]
    },
    {
     "name": "stdout",
     "output_type": "stream",
     "text": [
      "1800/1800 [==============================] - 0s 210us/sample - loss: 3.9511 - val_loss: 4.0793\n",
      "Epoch 74/1800\n",
      "1800/1800 [==============================] - 0s 205us/sample - loss: 3.9437 - val_loss: 4.0497\n",
      "Epoch 75/1800\n",
      "1800/1800 [==============================] - 0s 206us/sample - loss: 3.9324 - val_loss: 4.0392\n",
      "Epoch 76/1800\n",
      "1800/1800 [==============================] - 0s 199us/sample - loss: 3.9249 - val_loss: 4.0628\n",
      "Epoch 77/1800\n",
      "1800/1800 [==============================] - 0s 202us/sample - loss: 3.9225 - val_loss: 4.0303\n",
      "Epoch 78/1800\n",
      "1800/1800 [==============================] - 0s 201us/sample - loss: 3.9129 - val_loss: 4.0154\n",
      "Epoch 79/1800\n",
      "1800/1800 [==============================] - 0s 201us/sample - loss: 3.9050 - val_loss: 4.0293\n",
      "Epoch 80/1800\n",
      "1800/1800 [==============================] - 0s 204us/sample - loss: 3.9008 - val_loss: 4.0108\n",
      "Epoch 81/1800\n",
      "1800/1800 [==============================] - 0s 202us/sample - loss: 3.8889 - val_loss: 3.9884\n",
      "Epoch 82/1800\n",
      "1800/1800 [==============================] - 0s 200us/sample - loss: 3.8846 - val_loss: 3.9931\n",
      "Epoch 83/1800\n",
      "1800/1800 [==============================] - 0s 205us/sample - loss: 3.8773 - val_loss: 4.0029\n",
      "Epoch 84/1800\n",
      "1800/1800 [==============================] - 0s 201us/sample - loss: 3.8692 - val_loss: 3.9862\n",
      "Epoch 85/1800\n",
      "1800/1800 [==============================] - 0s 209us/sample - loss: 3.8606 - val_loss: 3.9634\n",
      "Epoch 86/1800\n",
      "1800/1800 [==============================] - 0s 209us/sample - loss: 3.8576 - val_loss: 3.9402\n",
      "Epoch 87/1800\n",
      "1800/1800 [==============================] - 0s 206us/sample - loss: 3.8510 - val_loss: 3.9373\n",
      "Epoch 88/1800\n",
      "1800/1800 [==============================] - 0s 200us/sample - loss: 3.8418 - val_loss: 3.9299\n",
      "Epoch 89/1800\n",
      "1800/1800 [==============================] - 0s 198us/sample - loss: 3.8336 - val_loss: 3.9344\n",
      "Epoch 90/1800\n",
      "1800/1800 [==============================] - 0s 209us/sample - loss: 3.8239 - val_loss: 3.9107\n",
      "Epoch 91/1800\n",
      "1800/1800 [==============================] - 0s 205us/sample - loss: 3.8194 - val_loss: 3.8922\n",
      "Epoch 92/1800\n",
      "1800/1800 [==============================] - 0s 196us/sample - loss: 3.8115 - val_loss: 3.8982\n",
      "Epoch 93/1800\n",
      "1800/1800 [==============================] - 0s 204us/sample - loss: 3.8036 - val_loss: 3.9073\n",
      "Epoch 94/1800\n",
      "1800/1800 [==============================] - 0s 215us/sample - loss: 3.7994 - val_loss: 3.9145\n",
      "Epoch 95/1800\n",
      "1800/1800 [==============================] - 0s 239us/sample - loss: 3.7952 - val_loss: 3.8956\n",
      "Epoch 96/1800\n",
      "1800/1800 [==============================] - 0s 211us/sample - loss: 3.7860 - val_loss: 3.8956\n",
      "Epoch 97/1800\n",
      "1800/1800 [==============================] - 0s 217us/sample - loss: 3.7791 - val_loss: 3.8852\n",
      "Epoch 98/1800\n",
      "1800/1800 [==============================] - 0s 175us/sample - loss: 3.7698 - val_loss: 3.8702\n",
      "Epoch 99/1800\n",
      "1800/1800 [==============================] - 0s 198us/sample - loss: 3.7657 - val_loss: 3.8634\n",
      "Epoch 100/1800\n",
      "1800/1800 [==============================] - 0s 196us/sample - loss: 3.7585 - val_loss: 3.8572\n",
      "Epoch 101/1800\n",
      "1800/1800 [==============================] - 0s 200us/sample - loss: 3.7545 - val_loss: 3.8469\n",
      "Epoch 102/1800\n",
      "1800/1800 [==============================] - 0s 201us/sample - loss: 3.7492 - val_loss: 3.8599\n",
      "Epoch 103/1800\n",
      "1800/1800 [==============================] - 0s 199us/sample - loss: 3.7470 - val_loss: 3.8288\n",
      "Epoch 104/1800\n",
      "1800/1800 [==============================] - 0s 198us/sample - loss: 3.7411 - val_loss: 3.8251\n",
      "Epoch 105/1800\n",
      "1800/1800 [==============================] - 0s 198us/sample - loss: 3.7339 - val_loss: 3.8564\n",
      "Epoch 106/1800\n",
      "1800/1800 [==============================] - 0s 204us/sample - loss: 3.7294 - val_loss: 3.8141\n",
      "Epoch 107/1800\n",
      "1800/1800 [==============================] - 0s 194us/sample - loss: 3.7259 - val_loss: 3.8269\n",
      "Epoch 108/1800\n",
      "1800/1800 [==============================] - 0s 218us/sample - loss: 3.7215 - val_loss: 3.8068\n",
      "Epoch 109/1800\n",
      "1800/1800 [==============================] - 0s 215us/sample - loss: 3.7177 - val_loss: 3.8063\n",
      "Epoch 110/1800\n",
      "1800/1800 [==============================] - 0s 224us/sample - loss: 3.7157 - val_loss: 3.8118\n",
      "Epoch 111/1800\n",
      "1800/1800 [==============================] - 0s 242us/sample - loss: 3.7100 - val_loss: 3.7975\n",
      "Epoch 112/1800\n",
      "1800/1800 [==============================] - 0s 196us/sample - loss: 3.7078 - val_loss: 3.7845\n",
      "Epoch 113/1800\n",
      "1800/1800 [==============================] - 0s 195us/sample - loss: 3.7057 - val_loss: 3.8344\n",
      "Epoch 114/1800\n",
      "1800/1800 [==============================] - 0s 210us/sample - loss: 3.6974 - val_loss: 3.7957\n",
      "Epoch 115/1800\n",
      "1800/1800 [==============================] - 0s 203us/sample - loss: 3.6935 - val_loss: 3.7809\n",
      "Epoch 116/1800\n",
      "1800/1800 [==============================] - 0s 195us/sample - loss: 3.6943 - val_loss: 3.7966\n",
      "Epoch 117/1800\n",
      "1800/1800 [==============================] - 0s 198us/sample - loss: 3.6905 - val_loss: 3.7744\n",
      "Epoch 118/1800\n",
      "1800/1800 [==============================] - 0s 156us/sample - loss: 3.6848 - val_loss: 3.7697\n",
      "Epoch 119/1800\n",
      "1800/1800 [==============================] - 0s 195us/sample - loss: 3.6834 - val_loss: 3.7834\n",
      "Epoch 120/1800\n",
      "1800/1800 [==============================] - 0s 202us/sample - loss: 3.6807 - val_loss: 3.7611\n",
      "Epoch 121/1800\n",
      "1800/1800 [==============================] - 0s 198us/sample - loss: 3.6778 - val_loss: 3.7736\n",
      "Epoch 122/1800\n",
      "1800/1800 [==============================] - 0s 199us/sample - loss: 3.6752 - val_loss: 3.7670\n",
      "Epoch 123/1800\n",
      "1800/1800 [==============================] - 0s 200us/sample - loss: 3.6697 - val_loss: 3.7746\n",
      "Epoch 124/1800\n",
      "1800/1800 [==============================] - 0s 200us/sample - loss: 3.6694 - val_loss: 3.7766\n",
      "Epoch 125/1800\n",
      "1800/1800 [==============================] - 0s 201us/sample - loss: 3.6649 - val_loss: 3.7542\n",
      "Epoch 126/1800\n",
      "1800/1800 [==============================] - 0s 203us/sample - loss: 3.6629 - val_loss: 3.7512\n",
      "Epoch 127/1800\n",
      "1800/1800 [==============================] - 0s 200us/sample - loss: 3.6590 - val_loss: 3.7406\n",
      "Epoch 128/1800\n",
      "1800/1800 [==============================] - 0s 196us/sample - loss: 3.6572 - val_loss: 3.7475\n",
      "Epoch 129/1800\n",
      "1800/1800 [==============================] - 0s 194us/sample - loss: 3.6555 - val_loss: 3.7434\n",
      "Epoch 130/1800\n",
      "1800/1800 [==============================] - 0s 198us/sample - loss: 3.6530 - val_loss: 3.7348\n",
      "Epoch 131/1800\n",
      "1800/1800 [==============================] - 0s 200us/sample - loss: 3.6478 - val_loss: 3.7376\n",
      "Epoch 132/1800\n",
      "1800/1800 [==============================] - 0s 192us/sample - loss: 3.6454 - val_loss: 3.7256\n",
      "Epoch 133/1800\n",
      "1800/1800 [==============================] - 0s 200us/sample - loss: 3.6474 - val_loss: 3.7202\n",
      "Epoch 134/1800\n",
      "1800/1800 [==============================] - 0s 198us/sample - loss: 3.6416 - val_loss: 3.7247\n",
      "Epoch 135/1800\n",
      "1800/1800 [==============================] - 0s 199us/sample - loss: 3.6400 - val_loss: 3.7176\n",
      "Epoch 136/1800\n",
      "1800/1800 [==============================] - 0s 198us/sample - loss: 3.6367 - val_loss: 3.7228\n",
      "Epoch 137/1800\n",
      "1800/1800 [==============================] - 0s 211us/sample - loss: 3.6382 - val_loss: 3.7173\n",
      "Epoch 138/1800\n",
      "1800/1800 [==============================] - 0s 148us/sample - loss: 3.6364 - val_loss: 3.7037\n",
      "Epoch 139/1800\n",
      "1800/1800 [==============================] - 0s 203us/sample - loss: 3.6320 - val_loss: 3.7132\n",
      "Epoch 140/1800\n",
      "1800/1800 [==============================] - 0s 204us/sample - loss: 3.6340 - val_loss: 3.7074\n",
      "Epoch 141/1800\n",
      "1800/1800 [==============================] - 0s 200us/sample - loss: 3.6266 - val_loss: 3.7066\n",
      "Epoch 142/1800\n",
      "1800/1800 [==============================] - 0s 202us/sample - loss: 3.6270 - val_loss: 3.7020\n",
      "Epoch 143/1800\n",
      "1800/1800 [==============================] - 0s 201us/sample - loss: 3.6228 - val_loss: 3.7011\n",
      "Epoch 144/1800\n",
      "1800/1800 [==============================] - 0s 201us/sample - loss: 3.6207 - val_loss: 3.6937\n",
      "Epoch 145/1800\n",
      "1800/1800 [==============================] - 0s 195us/sample - loss: 3.6202 - val_loss: 3.6877\n",
      "Epoch 146/1800\n",
      "1800/1800 [==============================] - 0s 200us/sample - loss: 3.6193 - val_loss: 3.6984\n",
      "Epoch 147/1800\n",
      "1800/1800 [==============================] - 0s 201us/sample - loss: 3.6197 - val_loss: 3.6993\n"
     ]
    },
    {
     "name": "stdout",
     "output_type": "stream",
     "text": [
      "Epoch 148/1800\n",
      "1800/1800 [==============================] - 0s 197us/sample - loss: 3.6184 - val_loss: 3.6966\n",
      "Epoch 149/1800\n",
      "1800/1800 [==============================] - 0s 199us/sample - loss: 3.6147 - val_loss: 3.6992\n",
      "Epoch 150/1800\n",
      "1800/1800 [==============================] - 0s 206us/sample - loss: 3.6157 - val_loss: 3.6803\n",
      "Epoch 151/1800\n",
      "1800/1800 [==============================] - 0s 203us/sample - loss: 3.6080 - val_loss: 3.6800\n",
      "Epoch 152/1800\n",
      "1800/1800 [==============================] - 0s 189us/sample - loss: 3.6091 - val_loss: 3.6925\n",
      "Epoch 153/1800\n",
      "1800/1800 [==============================] - 0s 200us/sample - loss: 3.6030 - val_loss: 3.6728\n",
      "Epoch 154/1800\n",
      "1800/1800 [==============================] - 0s 192us/sample - loss: 3.6075 - val_loss: 3.6767\n",
      "Epoch 155/1800\n",
      "1800/1800 [==============================] - 0s 192us/sample - loss: 3.6024 - val_loss: 3.6740\n",
      "Epoch 156/1800\n",
      "1800/1800 [==============================] - 0s 196us/sample - loss: 3.6027 - val_loss: 3.6659\n",
      "Epoch 157/1800\n",
      "1800/1800 [==============================] - 0s 194us/sample - loss: 3.5988 - val_loss: 3.6699\n",
      "Epoch 158/1800\n",
      "1800/1800 [==============================] - 0s 189us/sample - loss: 3.5978 - val_loss: 3.6723\n",
      "Epoch 159/1800\n",
      "1800/1800 [==============================] - 1s 352us/sample - loss: 3.5969 - val_loss: 3.6662\n",
      "Epoch 160/1800\n",
      "1800/1800 [==============================] - 1s 341us/sample - loss: 3.5971 - val_loss: 3.6714\n",
      "Epoch 161/1800\n",
      "1800/1800 [==============================] - 0s 194us/sample - loss: 3.5956 - val_loss: 3.6647\n",
      "Epoch 162/1800\n",
      "1800/1800 [==============================] - 0s 195us/sample - loss: 3.5958 - val_loss: 3.6675\n",
      "Epoch 163/1800\n",
      "1800/1800 [==============================] - 0s 202us/sample - loss: 3.5953 - val_loss: 3.6610\n",
      "Epoch 164/1800\n",
      "1800/1800 [==============================] - 0s 224us/sample - loss: 3.5909 - val_loss: 3.6543\n",
      "Epoch 165/1800\n",
      "1800/1800 [==============================] - 0s 205us/sample - loss: 3.5917 - val_loss: 3.6550\n",
      "Epoch 166/1800\n",
      "1800/1800 [==============================] - 0s 207us/sample - loss: 3.5877 - val_loss: 3.6583\n",
      "Epoch 167/1800\n",
      "1800/1800 [==============================] - 0s 211us/sample - loss: 3.5880 - val_loss: 3.6563\n",
      "Epoch 168/1800\n",
      "1800/1800 [==============================] - 0s 204us/sample - loss: 3.5865 - val_loss: 3.6616\n",
      "Epoch 169/1800\n",
      "1800/1800 [==============================] - 0s 209us/sample - loss: 3.5871 - val_loss: 3.6560\n",
      "Epoch 170/1800\n",
      "1800/1800 [==============================] - 0s 221us/sample - loss: 3.5835 - val_loss: 3.6504\n",
      "Epoch 171/1800\n",
      "1800/1800 [==============================] - 0s 207us/sample - loss: 3.5822 - val_loss: 3.6484\n",
      "Epoch 172/1800\n",
      "1800/1800 [==============================] - 0s 204us/sample - loss: 3.5820 - val_loss: 3.6537\n",
      "Epoch 173/1800\n",
      "1800/1800 [==============================] - 0s 204us/sample - loss: 3.5795 - val_loss: 3.6440\n",
      "Epoch 174/1800\n",
      "1800/1800 [==============================] - 0s 211us/sample - loss: 3.5802 - val_loss: 3.6480\n",
      "Epoch 175/1800\n",
      "1800/1800 [==============================] - 0s 210us/sample - loss: 3.5804 - val_loss: 3.6490\n",
      "Epoch 176/1800\n",
      "1800/1800 [==============================] - 0s 209us/sample - loss: 3.5758 - val_loss: 3.6405\n",
      "Epoch 177/1800\n",
      "1800/1800 [==============================] - 0s 210us/sample - loss: 3.5775 - val_loss: 3.6389\n",
      "Epoch 178/1800\n",
      "1800/1800 [==============================] - 0s 205us/sample - loss: 3.5749 - val_loss: 3.6476\n",
      "Epoch 179/1800\n",
      "1800/1800 [==============================] - 0s 212us/sample - loss: 3.5739 - val_loss: 3.6403\n",
      "Epoch 180/1800\n",
      "1800/1800 [==============================] - 0s 210us/sample - loss: 3.5716 - val_loss: 3.6383\n",
      "Epoch 181/1800\n",
      "1800/1800 [==============================] - 0s 209us/sample - loss: 3.5742 - val_loss: 3.6389\n",
      "Epoch 182/1800\n",
      "1800/1800 [==============================] - 0s 210us/sample - loss: 3.5685 - val_loss: 3.6324\n",
      "Epoch 183/1800\n",
      "1800/1800 [==============================] - 0s 208us/sample - loss: 3.5701 - val_loss: 3.6352\n",
      "Epoch 184/1800\n",
      "1800/1800 [==============================] - 0s 209us/sample - loss: 3.5686 - val_loss: 3.6428\n",
      "Epoch 185/1800\n",
      "1800/1800 [==============================] - 0s 208us/sample - loss: 3.5655 - val_loss: 3.6382\n",
      "Epoch 186/1800\n",
      "1800/1800 [==============================] - 0s 206us/sample - loss: 3.5668 - val_loss: 3.6350\n",
      "Epoch 187/1800\n",
      "1800/1800 [==============================] - 0s 207us/sample - loss: 3.5676 - val_loss: 3.6343\n",
      "Epoch 188/1800\n",
      "1800/1800 [==============================] - 0s 209us/sample - loss: 3.5656 - val_loss: 3.6427\n",
      "Epoch 189/1800\n",
      "1800/1800 [==============================] - 0s 216us/sample - loss: 3.5656 - val_loss: 3.6287\n",
      "Epoch 190/1800\n",
      "1800/1800 [==============================] - 0s 204us/sample - loss: 3.5660 - val_loss: 3.6292\n",
      "Epoch 191/1800\n",
      "1800/1800 [==============================] - 0s 215us/sample - loss: 3.5611 - val_loss: 3.6305\n",
      "Epoch 192/1800\n",
      "1800/1800 [==============================] - 0s 213us/sample - loss: 3.5625 - val_loss: 3.6341\n",
      "Epoch 193/1800\n",
      "1800/1800 [==============================] - 0s 207us/sample - loss: 3.5593 - val_loss: 3.6308\n",
      "Epoch 194/1800\n",
      "1800/1800 [==============================] - 0s 205us/sample - loss: 3.5585 - val_loss: 3.6173\n",
      "Epoch 195/1800\n",
      "1800/1800 [==============================] - 0s 208us/sample - loss: 3.5592 - val_loss: 3.6288\n",
      "Epoch 196/1800\n",
      "1800/1800 [==============================] - 0s 203us/sample - loss: 3.5589 - val_loss: 3.6227\n",
      "Epoch 197/1800\n",
      "1800/1800 [==============================] - 0s 214us/sample - loss: 3.5596 - val_loss: 3.6301\n",
      "Epoch 198/1800\n",
      "1800/1800 [==============================] - 0s 215us/sample - loss: 3.5594 - val_loss: 3.6184\n",
      "Epoch 199/1800\n",
      "1800/1800 [==============================] - 0s 207us/sample - loss: 3.5586 - val_loss: 3.6220\n",
      "Epoch 200/1800\n",
      "1800/1800 [==============================] - 0s 206us/sample - loss: 3.5584 - val_loss: 3.6176\n",
      "Epoch 201/1800\n",
      "1800/1800 [==============================] - 0s 212us/sample - loss: 3.5612 - val_loss: 3.6196\n",
      "Epoch 202/1800\n",
      "1800/1800 [==============================] - 0s 207us/sample - loss: 3.5544 - val_loss: 3.6189\n",
      "Epoch 203/1800\n",
      "1800/1800 [==============================] - 0s 208us/sample - loss: 3.5543 - val_loss: 3.6125\n",
      "Epoch 204/1800\n",
      "1800/1800 [==============================] - 0s 207us/sample - loss: 3.5528 - val_loss: 3.6112\n",
      "Epoch 205/1800\n",
      "1800/1800 [==============================] - 0s 212us/sample - loss: 3.5542 - val_loss: 3.6124\n",
      "Epoch 206/1800\n",
      "1800/1800 [==============================] - 0s 220us/sample - loss: 3.5522 - val_loss: 3.6197\n",
      "Epoch 207/1800\n",
      "1800/1800 [==============================] - 0s 206us/sample - loss: 3.5499 - val_loss: 3.6113\n",
      "Epoch 208/1800\n",
      "1800/1800 [==============================] - 0s 211us/sample - loss: 3.5486 - val_loss: 3.6137\n",
      "Epoch 209/1800\n",
      "1800/1800 [==============================] - 0s 213us/sample - loss: 3.5517 - val_loss: 3.6220\n",
      "Epoch 210/1800\n",
      "1800/1800 [==============================] - 0s 206us/sample - loss: 3.5493 - val_loss: 3.6091\n",
      "Epoch 211/1800\n",
      "1800/1800 [==============================] - 0s 208us/sample - loss: 3.5480 - val_loss: 3.6182\n",
      "Epoch 212/1800\n",
      "1800/1800 [==============================] - 0s 211us/sample - loss: 3.5490 - val_loss: 3.6134\n",
      "Epoch 213/1800\n",
      "1800/1800 [==============================] - 0s 213us/sample - loss: 3.5460 - val_loss: 3.6059\n",
      "Epoch 214/1800\n",
      "1800/1800 [==============================] - 0s 204us/sample - loss: 3.5473 - val_loss: 3.6082\n",
      "Epoch 215/1800\n",
      "1800/1800 [==============================] - 0s 206us/sample - loss: 3.5455 - val_loss: 3.6094\n",
      "Epoch 216/1800\n",
      "1800/1800 [==============================] - 0s 207us/sample - loss: 3.5448 - val_loss: 3.6034\n",
      "Epoch 217/1800\n",
      "1800/1800 [==============================] - 0s 211us/sample - loss: 3.5420 - val_loss: 3.6019\n",
      "Epoch 218/1800\n",
      "1800/1800 [==============================] - 0s 209us/sample - loss: 3.5409 - val_loss: 3.6036\n",
      "Epoch 219/1800\n",
      "1800/1800 [==============================] - 0s 210us/sample - loss: 3.5452 - val_loss: 3.6066\n",
      "Epoch 220/1800\n",
      "1800/1800 [==============================] - 0s 204us/sample - loss: 3.5415 - val_loss: 3.6277\n",
      "Epoch 221/1800\n",
      "1800/1800 [==============================] - 0s 203us/sample - loss: 3.5406 - val_loss: 3.6099\n",
      "Epoch 222/1800\n"
     ]
    },
    {
     "name": "stdout",
     "output_type": "stream",
     "text": [
      "1800/1800 [==============================] - 0s 201us/sample - loss: 3.5402 - val_loss: 3.6058\n",
      "Epoch 223/1800\n",
      "1800/1800 [==============================] - 0s 192us/sample - loss: 3.5385 - val_loss: 3.6092\n",
      "Epoch 224/1800\n",
      "1800/1800 [==============================] - 0s 192us/sample - loss: 3.5422 - val_loss: 3.6070\n",
      "Epoch 225/1800\n",
      "1800/1800 [==============================] - 0s 197us/sample - loss: 3.5387 - val_loss: 3.5969\n",
      "Epoch 226/1800\n",
      "1800/1800 [==============================] - 0s 195us/sample - loss: 3.5378 - val_loss: 3.6006\n",
      "Epoch 227/1800\n",
      "1800/1800 [==============================] - 0s 193us/sample - loss: 3.5386 - val_loss: 3.6005\n",
      "Epoch 228/1800\n",
      "1800/1800 [==============================] - 0s 198us/sample - loss: 3.5371 - val_loss: 3.5986\n",
      "Epoch 229/1800\n",
      "1800/1800 [==============================] - 0s 194us/sample - loss: 3.5356 - val_loss: 3.6017\n",
      "Epoch 230/1800\n",
      "1800/1800 [==============================] - 0s 194us/sample - loss: 3.5356 - val_loss: 3.6002\n",
      "Epoch 231/1800\n",
      "1800/1800 [==============================] - 0s 194us/sample - loss: 3.5350 - val_loss: 3.6005\n",
      "Epoch 232/1800\n",
      "1800/1800 [==============================] - 0s 197us/sample - loss: 3.5345 - val_loss: 3.6254\n",
      "Epoch 233/1800\n",
      "1800/1800 [==============================] - 0s 232us/sample - loss: 3.5368 - val_loss: 3.5970\n",
      "Epoch 234/1800\n",
      "1800/1800 [==============================] - 0s 194us/sample - loss: 3.5336 - val_loss: 3.6006\n",
      "Epoch 235/1800\n",
      "1728/1800 [===========================>..] - ETA: 0s - loss: 3.5327\n",
      "Epoch 00235: ReduceLROnPlateau reducing learning rate to 0.00010000000474974513.\n",
      "1800/1800 [==============================] - 0s 195us/sample - loss: 3.5320 - val_loss: 3.6104\n",
      "Epoch 236/1800\n",
      "1800/1800 [==============================] - 0s 233us/sample - loss: 3.5194 - val_loss: 3.5891\n",
      "Epoch 237/1800\n",
      "1800/1800 [==============================] - 0s 194us/sample - loss: 3.5157 - val_loss: 3.5857\n",
      "Epoch 238/1800\n",
      "1800/1800 [==============================] - 0s 196us/sample - loss: 3.5161 - val_loss: 3.5844\n",
      "Epoch 239/1800\n",
      "1800/1800 [==============================] - 0s 200us/sample - loss: 3.5134 - val_loss: 3.5835\n",
      "Epoch 240/1800\n",
      "1800/1800 [==============================] - 0s 194us/sample - loss: 3.5140 - val_loss: 3.5836\n",
      "Epoch 241/1800\n",
      "1800/1800 [==============================] - 0s 224us/sample - loss: 3.5125 - val_loss: 3.5835\n",
      "Epoch 242/1800\n",
      "1800/1800 [==============================] - 0s 230us/sample - loss: 3.5148 - val_loss: 3.5825\n",
      "Epoch 243/1800\n",
      "1800/1800 [==============================] - 0s 240us/sample - loss: 3.5129 - val_loss: 3.5827\n",
      "Epoch 244/1800\n",
      "1800/1800 [==============================] - 0s 239us/sample - loss: 3.5111 - val_loss: 3.5843\n",
      "Epoch 245/1800\n",
      "1800/1800 [==============================] - 0s 230us/sample - loss: 3.5136 - val_loss: 3.5851\n",
      "Epoch 246/1800\n",
      "1800/1800 [==============================] - 0s 213us/sample - loss: 3.5142 - val_loss: 3.5840\n",
      "Epoch 247/1800\n",
      "1800/1800 [==============================] - 0s 226us/sample - loss: 3.5123 - val_loss: 3.5852\n",
      "Epoch 248/1800\n",
      "1800/1800 [==============================] - 0s 206us/sample - loss: 3.5118 - val_loss: 3.5866\n",
      "Epoch 249/1800\n",
      "1800/1800 [==============================] - 0s 203us/sample - loss: 3.5107 - val_loss: 3.5850\n",
      "Epoch 250/1800\n",
      "1800/1800 [==============================] - 0s 213us/sample - loss: 3.5135 - val_loss: 3.5848\n",
      "Epoch 251/1800\n",
      "1800/1800 [==============================] - 0s 203us/sample - loss: 3.5113 - val_loss: 3.5847\n",
      "Epoch 252/1800\n",
      "1664/1800 [==========================>...] - ETA: 0s - loss: 3.5133\n",
      "Epoch 00252: ReduceLROnPlateau reducing learning rate to 1.0000000474974514e-05.\n",
      "1800/1800 [==============================] - 0s 206us/sample - loss: 3.5122 - val_loss: 3.5835\n",
      "Epoch 253/1800\n",
      "1800/1800 [==============================] - 0s 204us/sample - loss: 3.5104 - val_loss: 3.5834\n",
      "Epoch 254/1800\n",
      "1800/1800 [==============================] - 0s 206us/sample - loss: 3.5116 - val_loss: 3.5836\n",
      "Epoch 255/1800\n",
      "1800/1800 [==============================] - 0s 214us/sample - loss: 3.5095 - val_loss: 3.5836\n",
      "Epoch 256/1800\n",
      "1800/1800 [==============================] - 0s 255us/sample - loss: 3.5098 - val_loss: 3.5834\n",
      "Epoch 257/1800\n",
      "1800/1800 [==============================] - 0s 218us/sample - loss: 3.5097 - val_loss: 3.5834\n",
      "Epoch 00257: early stopping\n"
     ]
    },
    {
     "data": {
      "text/plain": [
       "<tensorflow.python.keras.callbacks.History at 0x7f998ff6e5c0>"
      ]
     },
     "execution_count": 152,
     "metadata": {},
     "output_type": "execute_result"
    }
   ],
   "source": [
    "inputs = {'count': adata_ae.X, 'size_factors': adata_ae.obs.size_factors}\n",
    "outputs =  adata_ae.raw.X\n",
    "    \n",
    "model.fit(inputs,  outputs, epochs=1800, batch_size=32, shuffle=True, validation_split = 0.1, verbose=True,  callbacks=callbacks)"
   ]
  },
  {
   "cell_type": "markdown",
   "metadata": {},
   "source": [
    "## As a reminder, let's see how our data looks like"
   ]
  },
  {
   "cell_type": "code",
   "execution_count": 155,
   "metadata": {},
   "outputs": [],
   "source": [
    "adata_ae.X\n",
    "sc.pp.pca(adata_ae)"
   ]
  },
  {
   "cell_type": "code",
   "execution_count": 156,
   "metadata": {},
   "outputs": [
    {
     "data": {
      "image/png": "[encoded data removed]",
      "text/plain": [
       "<Figure size 432x288 with 1 Axes>"
      ]
     },
     "metadata": {},
     "output_type": "display_data"
    },
    {
     "data": {
      "image/png": "[encoded data removed]",
      "text/plain": [
       "<Figure size 432x288 with 1 Axes>"
      ]
     },
     "metadata": {},
     "output_type": "display_data"
    }
   ],
   "source": [
    "\n",
    "sc.pl.pca_scatter(adata_ae, color='Group', size=20, title='Noisy counts before prediction')\n",
    "sc.pl.pca_scatter(adataNoisy, color='Group', size=20, title='Original counts')\n"
   ]
  },
  {
   "cell_type": "code",
   "execution_count": 157,
   "metadata": {
    "scrolled": true
   },
   "outputs": [
    {
     "data": {
      "image/png": "[encoded data removed]",
      "text/plain": [
       "<Figure size 432x288 with 1 Axes>"
      ]
     },
     "metadata": {
      "needs_background": "light"
     },
     "output_type": "display_data"
    }
   ],
   "source": [
    "from sklearn.metrics import silhouette_score\n",
    "\n",
    "sil_orig = silhouette_score(adataNoisy.obsm['X_pca'][:, :2], adataNoisy.obs.Group)\n",
    "sil_true = silhouette_score(adata_true.obsm['X_pca'][:, :2], adata_true.obs.Group)\n",
    "sil_ae = silhouette_score(adata_ae.obsm['X_pca'][:, :2], adata_ae.obs.Group)\n",
    "\n",
    "sns.barplot(x=['Original', 'True counts', 'Denoised'], \n",
    "            y=[sil_orig, sil_true, sil_ae])\n",
    "\n",
    "plt.title('Silhouette coefficients');"
   ]
  },
  {
   "cell_type": "markdown",
   "metadata": {},
   "source": [
    "## Now we will make prediction using the model we just got. "
   ]
  },
  {
   "cell_type": "code",
   "execution_count": 158,
   "metadata": {},
   "outputs": [
    {
     "name": "stdout",
     "output_type": "stream",
     "text": [
      "WARNING:tensorflow:Falling back from v2 loop because of error: Failed to find data adapter that can handle input: (<class 'dict'> containing {\"<class 'str'>\"} keys and {\"<class 'numpy.ndarray'>\", \"<class 'pandas.core.series.Series'>\"} values), <class 'NoneType'>\n"
     ]
    }
   ],
   "source": [
    "adata_ae.X = model.predict({'count': adata_ae.X,'size_factors': adata_ae.obs.size_factors})\n",
    "#adata_ae.uns['dca_loss'] = model.test_on_batch({'count': adata_ae.X, 'size_factors': adata_ae.obs.size_factors}, adata_ae.raw.X)\n",
    "    "
   ]
  },
  {
   "cell_type": "code",
   "execution_count": 159,
   "metadata": {},
   "outputs": [],
   "source": [
    "sc.pp.normalize_per_cell(adata_ae)\n",
    "sc.pp.log1p(adata_ae)\n",
    "sc.pp.pca(adata_ae)\n"
   ]
  },
  {
   "cell_type": "code",
   "execution_count": 160,
   "metadata": {},
   "outputs": [
    {
     "data": {
      "image/png": "[encoded data removed]",
      "text/plain": [
       "<Figure size 432x288 with 1 Axes>"
      ]
     },
     "metadata": {},
     "output_type": "display_data"
    }
   ],
   "source": [
    "sc.pl.pca_scatter(adata_ae, color='Group', size=20, title='Denoised counts')\n"
   ]
  },
  {
   "cell_type": "code",
   "execution_count": 161,
   "metadata": {},
   "outputs": [
    {
     "data": {
      "image/png": "[encoded data removed]",
      "text/plain": [
       "<Figure size 432x288 with 1 Axes>"
      ]
     },
     "metadata": {
      "needs_background": "light"
     },
     "output_type": "display_data"
    }
   ],
   "source": [
    "from sklearn.metrics import silhouette_score\n",
    "\n",
    "sil_orig = silhouette_score(adataNoisy.obsm['X_pca'][:, :2], adataNoisy.obs.Group)\n",
    "sil_true = silhouette_score(adata_true.obsm['X_pca'][:, :2], adata_true.obs.Group)\n",
    "sil_ae = silhouette_score(adata_ae.obsm['X_pca'][:, :2], adata_ae.obs.Group)\n",
    "\n",
    "sns.barplot(x=['Original', 'True counts', 'Denoised'], \n",
    "            y=[sil_orig, sil_true, sil_ae])\n",
    "\n",
    "plt.title('Silhouette coefficients');"
   ]
  },
  {
   "cell_type": "code",
   "execution_count": 60,
   "metadata": {},
   "outputs": [
    {
     "data": {
      "text/plain": [
       "array([[3.2792733, 3.8255002, 2.701237 , ..., 7.0257635, 2.3769226,\n",
       "        4.703691 ],\n",
       "       [3.4052122, 4.001412 , 2.254256 , ..., 7.008899 , 1.6224569,\n",
       "        4.711489 ],\n",
       "       [3.2050388, 4.164026 , 2.6893725, ..., 7.090055 , 2.116159 ,\n",
       "        4.6457176],\n",
       "       ...,\n",
       "       [3.2251573, 4.091542 , 2.4030528, ..., 7.0187488, 2.0868993,\n",
       "        4.5953074],\n",
       "       [3.445664 , 4.1839566, 2.8712437, ..., 7.069356 , 2.1877153,\n",
       "        4.745717 ],\n",
       "       [3.4018903, 4.0129943, 2.6134923, ..., 7.0418286, 1.3180801,\n",
       "        4.7463865]], dtype=float32)"
      ]
     },
     "execution_count": 60,
     "metadata": {},
     "output_type": "execute_result"
    }
   ],
   "source": [
    "adata_ae.X"
   ]
  },
  {
   "cell_type": "markdown",
   "metadata": {},
   "source": [
    "### From Scatter plot and Silhouette coefficients bar plot, we see that a significant improvment has been made. "
   ]
  },
  {
   "cell_type": "code",
   "execution_count": null,
   "metadata": {},
   "outputs": [],
   "source": []
  }
 ],
 "metadata": {
  "kernelspec": {
   "display_name": "Python 3",
   "language": "python",
   "name": "python3"
  },
  "language_info": {
   "codemirror_mode": {
    "name": "ipython",
    "version": 3
   },
   "file_extension": ".py",
   "mimetype": "text/x-python",
   "name": "python",
   "nbconvert_exporter": "python",
   "pygments_lexer": "ipython3",
   "version": "3.7.3"
  }
 },
 "nbformat": 4,
 "nbformat_minor": 4
}
